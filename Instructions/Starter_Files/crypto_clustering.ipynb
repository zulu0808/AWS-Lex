{
 "cells": [
  {
   "cell_type": "markdown",
   "metadata": {},
   "source": [
    "# Clustering Crypto"
   ]
  },
  {
   "cell_type": "code",
   "execution_count": 32,
   "metadata": {},
   "outputs": [],
   "source": [
    "# Initial imports\n",
    "import requests\n",
    "import pandas as pd\n",
    "import numpy as np\n",
    "import matplotlib.pyplot as plt\n",
    "import hvplot.pandas\n",
    "import plotly.express as px\n",
    "from sklearn.preprocessing import StandardScaler, MinMaxScaler\n",
    "scaler =StandardScaler ()\n",
    "mm = MinMaxScaler\n",
    "from sklearn.decomposition import PCA\n",
    "from sklearn.cluster import KMeans"
   ]
  },
  {
   "cell_type": "markdown",
   "metadata": {},
   "source": [
    "### Fetching Cryptocurrency Data"
   ]
  },
  {
   "cell_type": "code",
   "execution_count": 33,
   "metadata": {},
   "outputs": [],
   "source": [
    "# Use the following endpoint to fetch json data\n",
    "url = \"https://min-api.cryptocompare.com/data/all/coinlist\""
   ]
  },
  {
   "cell_type": "code",
   "execution_count": 34,
   "metadata": {},
   "outputs": [],
   "source": [
    "# Create a DataFrame \n",
    "# HINT: You will need to use the 'Data' key from the json response, then transpose the DataFrame."
   ]
  },
  {
   "cell_type": "code",
   "execution_count": 35,
   "metadata": {},
   "outputs": [
    {
     "output_type": "execute_result",
     "data": {
      "text/plain": [
       "     Unnamed: 0        CoinName Algorithm  IsTrading ProofType  \\\n",
       "1247        XBC     BitcoinPlus    Scrypt       True       PoS   \n",
       "1248       DVTC      DivotyCoin    Scrypt      False   PoW/PoS   \n",
       "1249       GIOT     Giotto Coin    Scrypt      False   PoW/PoS   \n",
       "1250       OPSC  OpenSourceCoin   SHA-256      False   PoW/PoS   \n",
       "1251       PUNK       SteamPunk       PoS      False       PoS   \n",
       "\n",
       "      TotalCoinsMined TotalCoinSupply  \n",
       "1247     1.283270e+05         1000000  \n",
       "1248     2.149121e+07       100000000  \n",
       "1249              NaN       233100000  \n",
       "1250              NaN        21000000  \n",
       "1251              NaN        40000000  "
      ],
      "text/html": "<div>\n<style scoped>\n    .dataframe tbody tr th:only-of-type {\n        vertical-align: middle;\n    }\n\n    .dataframe tbody tr th {\n        vertical-align: top;\n    }\n\n    .dataframe thead th {\n        text-align: right;\n    }\n</style>\n<table border=\"1\" class=\"dataframe\">\n  <thead>\n    <tr style=\"text-align: right;\">\n      <th></th>\n      <th>Unnamed: 0</th>\n      <th>CoinName</th>\n      <th>Algorithm</th>\n      <th>IsTrading</th>\n      <th>ProofType</th>\n      <th>TotalCoinsMined</th>\n      <th>TotalCoinSupply</th>\n    </tr>\n  </thead>\n  <tbody>\n    <tr>\n      <th>1247</th>\n      <td>XBC</td>\n      <td>BitcoinPlus</td>\n      <td>Scrypt</td>\n      <td>True</td>\n      <td>PoS</td>\n      <td>1.283270e+05</td>\n      <td>1000000</td>\n    </tr>\n    <tr>\n      <th>1248</th>\n      <td>DVTC</td>\n      <td>DivotyCoin</td>\n      <td>Scrypt</td>\n      <td>False</td>\n      <td>PoW/PoS</td>\n      <td>2.149121e+07</td>\n      <td>100000000</td>\n    </tr>\n    <tr>\n      <th>1249</th>\n      <td>GIOT</td>\n      <td>Giotto Coin</td>\n      <td>Scrypt</td>\n      <td>False</td>\n      <td>PoW/PoS</td>\n      <td>NaN</td>\n      <td>233100000</td>\n    </tr>\n    <tr>\n      <th>1250</th>\n      <td>OPSC</td>\n      <td>OpenSourceCoin</td>\n      <td>SHA-256</td>\n      <td>False</td>\n      <td>PoW/PoS</td>\n      <td>NaN</td>\n      <td>21000000</td>\n    </tr>\n    <tr>\n      <th>1251</th>\n      <td>PUNK</td>\n      <td>SteamPunk</td>\n      <td>PoS</td>\n      <td>False</td>\n      <td>PoS</td>\n      <td>NaN</td>\n      <td>40000000</td>\n    </tr>\n  </tbody>\n</table>\n</div>"
     },
     "metadata": {},
     "execution_count": 35
    }
   ],
   "source": [
    "# Alternatively, use the provided csv file:\n",
    "file_path = pd.read_csv (\"C:/Users/pvolc/rice_fintech/AWS-Lex/Instructions/Starter_Files/Resources/crypto_data.csv\")\n",
    "\n",
    "# Create a DataFrame\n",
    "crypto_df = pd.DataFrame (file_path, index=None) \n",
    "crypto_df.tail()"
   ]
  },
  {
   "cell_type": "markdown",
   "metadata": {},
   "source": [
    "### Data Preprocessing"
   ]
  },
  {
   "cell_type": "code",
   "execution_count": 36,
   "metadata": {},
   "outputs": [
    {
     "output_type": "execute_result",
     "data": {
      "text/plain": [
       "            CoinName Algorithm  IsTrading ProofType  TotalCoinsMined  \\\n",
       "1247     BitcoinPlus    Scrypt       True       PoS     1.283270e+05   \n",
       "1248      DivotyCoin    Scrypt      False   PoW/PoS     2.149121e+07   \n",
       "1249     Giotto Coin    Scrypt      False   PoW/PoS              NaN   \n",
       "1250  OpenSourceCoin   SHA-256      False   PoW/PoS              NaN   \n",
       "1251       SteamPunk       PoS      False       PoS              NaN   \n",
       "\n",
       "     TotalCoinSupply  \n",
       "1247         1000000  \n",
       "1248       100000000  \n",
       "1249       233100000  \n",
       "1250        21000000  \n",
       "1251        40000000  "
      ],
      "text/html": "<div>\n<style scoped>\n    .dataframe tbody tr th:only-of-type {\n        vertical-align: middle;\n    }\n\n    .dataframe tbody tr th {\n        vertical-align: top;\n    }\n\n    .dataframe thead th {\n        text-align: right;\n    }\n</style>\n<table border=\"1\" class=\"dataframe\">\n  <thead>\n    <tr style=\"text-align: right;\">\n      <th></th>\n      <th>CoinName</th>\n      <th>Algorithm</th>\n      <th>IsTrading</th>\n      <th>ProofType</th>\n      <th>TotalCoinsMined</th>\n      <th>TotalCoinSupply</th>\n    </tr>\n  </thead>\n  <tbody>\n    <tr>\n      <th>1247</th>\n      <td>BitcoinPlus</td>\n      <td>Scrypt</td>\n      <td>True</td>\n      <td>PoS</td>\n      <td>1.283270e+05</td>\n      <td>1000000</td>\n    </tr>\n    <tr>\n      <th>1248</th>\n      <td>DivotyCoin</td>\n      <td>Scrypt</td>\n      <td>False</td>\n      <td>PoW/PoS</td>\n      <td>2.149121e+07</td>\n      <td>100000000</td>\n    </tr>\n    <tr>\n      <th>1249</th>\n      <td>Giotto Coin</td>\n      <td>Scrypt</td>\n      <td>False</td>\n      <td>PoW/PoS</td>\n      <td>NaN</td>\n      <td>233100000</td>\n    </tr>\n    <tr>\n      <th>1250</th>\n      <td>OpenSourceCoin</td>\n      <td>SHA-256</td>\n      <td>False</td>\n      <td>PoW/PoS</td>\n      <td>NaN</td>\n      <td>21000000</td>\n    </tr>\n    <tr>\n      <th>1251</th>\n      <td>SteamPunk</td>\n      <td>PoS</td>\n      <td>False</td>\n      <td>PoS</td>\n      <td>NaN</td>\n      <td>40000000</td>\n    </tr>\n  </tbody>\n</table>\n</div>"
     },
     "metadata": {},
     "execution_count": 36
    }
   ],
   "source": [
    "# Keep only necessary columns:\n",
    "# 'CoinName','Algorithm','IsTrading','ProofType','TotalCoinsMined','TotalCoinSupply'\n",
    "crypto_df = pd.DataFrame (crypto_df,columns = ['CoinName','Algorithm','IsTrading','ProofType','TotalCoinsMined','TotalCoinSupply'])\n",
    "crypto_df.tail()"
   ]
  },
  {
   "cell_type": "code",
   "execution_count": 37,
   "metadata": {},
   "outputs": [
    {
     "output_type": "execute_result",
     "data": {
      "text/plain": [
       "    CoinName Algorithm  IsTrading ProofType  TotalCoinsMined TotalCoinSupply\n",
       "0    42 Coin    Scrypt       True   PoW/PoS     4.199995e+01              42\n",
       "1    365Coin       X11       True   PoW/PoS              NaN      2300000000\n",
       "2    404Coin    Scrypt       True   PoW/PoS     1.055185e+09       532000000\n",
       "3  SixEleven   SHA-256       True       PoW              NaN          611000\n",
       "4        808   SHA-256       True   PoW/PoS     0.000000e+00               0"
      ],
      "text/html": "<div>\n<style scoped>\n    .dataframe tbody tr th:only-of-type {\n        vertical-align: middle;\n    }\n\n    .dataframe tbody tr th {\n        vertical-align: top;\n    }\n\n    .dataframe thead th {\n        text-align: right;\n    }\n</style>\n<table border=\"1\" class=\"dataframe\">\n  <thead>\n    <tr style=\"text-align: right;\">\n      <th></th>\n      <th>CoinName</th>\n      <th>Algorithm</th>\n      <th>IsTrading</th>\n      <th>ProofType</th>\n      <th>TotalCoinsMined</th>\n      <th>TotalCoinSupply</th>\n    </tr>\n  </thead>\n  <tbody>\n    <tr>\n      <th>0</th>\n      <td>42 Coin</td>\n      <td>Scrypt</td>\n      <td>True</td>\n      <td>PoW/PoS</td>\n      <td>4.199995e+01</td>\n      <td>42</td>\n    </tr>\n    <tr>\n      <th>1</th>\n      <td>365Coin</td>\n      <td>X11</td>\n      <td>True</td>\n      <td>PoW/PoS</td>\n      <td>NaN</td>\n      <td>2300000000</td>\n    </tr>\n    <tr>\n      <th>2</th>\n      <td>404Coin</td>\n      <td>Scrypt</td>\n      <td>True</td>\n      <td>PoW/PoS</td>\n      <td>1.055185e+09</td>\n      <td>532000000</td>\n    </tr>\n    <tr>\n      <th>3</th>\n      <td>SixEleven</td>\n      <td>SHA-256</td>\n      <td>True</td>\n      <td>PoW</td>\n      <td>NaN</td>\n      <td>611000</td>\n    </tr>\n    <tr>\n      <th>4</th>\n      <td>808</td>\n      <td>SHA-256</td>\n      <td>True</td>\n      <td>PoW/PoS</td>\n      <td>0.000000e+00</td>\n      <td>0</td>\n    </tr>\n  </tbody>\n</table>\n</div>"
     },
     "metadata": {},
     "execution_count": 37
    }
   ],
   "source": [
    "# Keep only cryptocurrencies that are trading\n",
    "crypto_df.iloc[:, -1]\n",
    "crypto_df = crypto_df.loc [crypto_df[\"IsTrading\"] ==True]\n",
    "crypto_df.head()"
   ]
  },
  {
   "cell_type": "code",
   "execution_count": 38,
   "metadata": {},
   "outputs": [
    {
     "output_type": "execute_result",
     "data": {
      "text/plain": [
       "CoinName            object\n",
       "Algorithm           object\n",
       "IsTrading             bool\n",
       "ProofType           object\n",
       "TotalCoinsMined    float64\n",
       "TotalCoinSupply     object\n",
       "dtype: object"
      ]
     },
     "metadata": {},
     "execution_count": 38
    }
   ],
   "source": [
    "crypto_df.dtypes"
   ]
  },
  {
   "cell_type": "code",
   "execution_count": 39,
   "metadata": {},
   "outputs": [
    {
     "output_type": "execute_result",
     "data": {
      "text/plain": [
       "    CoinName Algorithm  IsTrading ProofType  TotalCoinsMined TotalCoinSupply\n",
       "0    42 Coin    Scrypt        1.0   PoW/PoS     4.199995e+01              42\n",
       "1    365Coin       X11        1.0   PoW/PoS              NaN      2300000000\n",
       "2    404Coin    Scrypt        1.0   PoW/PoS     1.055185e+09       532000000\n",
       "3  SixEleven   SHA-256        1.0       PoW              NaN          611000\n",
       "4        808   SHA-256        1.0   PoW/PoS     0.000000e+00               0"
      ],
      "text/html": "<div>\n<style scoped>\n    .dataframe tbody tr th:only-of-type {\n        vertical-align: middle;\n    }\n\n    .dataframe tbody tr th {\n        vertical-align: top;\n    }\n\n    .dataframe thead th {\n        text-align: right;\n    }\n</style>\n<table border=\"1\" class=\"dataframe\">\n  <thead>\n    <tr style=\"text-align: right;\">\n      <th></th>\n      <th>CoinName</th>\n      <th>Algorithm</th>\n      <th>IsTrading</th>\n      <th>ProofType</th>\n      <th>TotalCoinsMined</th>\n      <th>TotalCoinSupply</th>\n    </tr>\n  </thead>\n  <tbody>\n    <tr>\n      <th>0</th>\n      <td>42 Coin</td>\n      <td>Scrypt</td>\n      <td>1.0</td>\n      <td>PoW/PoS</td>\n      <td>4.199995e+01</td>\n      <td>42</td>\n    </tr>\n    <tr>\n      <th>1</th>\n      <td>365Coin</td>\n      <td>X11</td>\n      <td>1.0</td>\n      <td>PoW/PoS</td>\n      <td>NaN</td>\n      <td>2300000000</td>\n    </tr>\n    <tr>\n      <th>2</th>\n      <td>404Coin</td>\n      <td>Scrypt</td>\n      <td>1.0</td>\n      <td>PoW/PoS</td>\n      <td>1.055185e+09</td>\n      <td>532000000</td>\n    </tr>\n    <tr>\n      <th>3</th>\n      <td>SixEleven</td>\n      <td>SHA-256</td>\n      <td>1.0</td>\n      <td>PoW</td>\n      <td>NaN</td>\n      <td>611000</td>\n    </tr>\n    <tr>\n      <th>4</th>\n      <td>808</td>\n      <td>SHA-256</td>\n      <td>1.0</td>\n      <td>PoW/PoS</td>\n      <td>0.000000e+00</td>\n      <td>0</td>\n    </tr>\n  </tbody>\n</table>\n</div>"
     },
     "metadata": {},
     "execution_count": 39
    }
   ],
   "source": [
    "# Keep only cryptocurrencies with a working algorithm\n",
    "crypto_df.iloc[crypto_df[\"Algorithm\"] == 0, 2:] = np.nan\n",
    "crypto_df.head()"
   ]
  },
  {
   "cell_type": "code",
   "execution_count": 40,
   "metadata": {},
   "outputs": [
    {
     "output_type": "execute_result",
     "data": {
      "text/plain": [
       "    CoinName Algorithm ProofType  TotalCoinsMined TotalCoinSupply\n",
       "0    42 Coin    Scrypt   PoW/PoS     4.199995e+01              42\n",
       "1    365Coin       X11   PoW/PoS              NaN      2300000000\n",
       "2    404Coin    Scrypt   PoW/PoS     1.055185e+09       532000000\n",
       "3  SixEleven   SHA-256       PoW              NaN          611000\n",
       "4        808   SHA-256   PoW/PoS     0.000000e+00               0"
      ],
      "text/html": "<div>\n<style scoped>\n    .dataframe tbody tr th:only-of-type {\n        vertical-align: middle;\n    }\n\n    .dataframe tbody tr th {\n        vertical-align: top;\n    }\n\n    .dataframe thead th {\n        text-align: right;\n    }\n</style>\n<table border=\"1\" class=\"dataframe\">\n  <thead>\n    <tr style=\"text-align: right;\">\n      <th></th>\n      <th>CoinName</th>\n      <th>Algorithm</th>\n      <th>ProofType</th>\n      <th>TotalCoinsMined</th>\n      <th>TotalCoinSupply</th>\n    </tr>\n  </thead>\n  <tbody>\n    <tr>\n      <th>0</th>\n      <td>42 Coin</td>\n      <td>Scrypt</td>\n      <td>PoW/PoS</td>\n      <td>4.199995e+01</td>\n      <td>42</td>\n    </tr>\n    <tr>\n      <th>1</th>\n      <td>365Coin</td>\n      <td>X11</td>\n      <td>PoW/PoS</td>\n      <td>NaN</td>\n      <td>2300000000</td>\n    </tr>\n    <tr>\n      <th>2</th>\n      <td>404Coin</td>\n      <td>Scrypt</td>\n      <td>PoW/PoS</td>\n      <td>1.055185e+09</td>\n      <td>532000000</td>\n    </tr>\n    <tr>\n      <th>3</th>\n      <td>SixEleven</td>\n      <td>SHA-256</td>\n      <td>PoW</td>\n      <td>NaN</td>\n      <td>611000</td>\n    </tr>\n    <tr>\n      <th>4</th>\n      <td>808</td>\n      <td>SHA-256</td>\n      <td>PoW/PoS</td>\n      <td>0.000000e+00</td>\n      <td>0</td>\n    </tr>\n  </tbody>\n</table>\n</div>"
     },
     "metadata": {},
     "execution_count": 40
    }
   ],
   "source": [
    "# Remove the \"IsTrading\" column\n",
    "crypto_df = crypto_df.drop([\"IsTrading\"], axis = 1)\n",
    "crypto_df.head()"
   ]
  },
  {
   "cell_type": "code",
   "execution_count": 41,
   "metadata": {},
   "outputs": [
    {
     "output_type": "execute_result",
     "data": {
      "text/plain": [
       "1144"
      ]
     },
     "metadata": {},
     "execution_count": 41
    }
   ],
   "source": [
    "len (crypto_df)"
   ]
  },
  {
   "cell_type": "code",
   "execution_count": 42,
   "metadata": {},
   "outputs": [
    {
     "output_type": "stream",
     "name": "stdout",
     "text": [
      "Column CoinName has 0 null values\nColumn Algorithm has 0 null values\nColumn ProofType has 0 null values\nColumn TotalCoinsMined has 459 null values\nColumn TotalCoinSupply has 0 null values\n"
     ]
    }
   ],
   "source": [
    "# Find null values\n",
    "for column in crypto_df.columns:\n",
    "    print(f\"Column {column} has {crypto_df[column].isnull().sum()} null values\")"
   ]
  },
  {
   "cell_type": "code",
   "execution_count": 43,
   "metadata": {},
   "outputs": [
    {
     "output_type": "execute_result",
     "data": {
      "text/plain": [
       "    CoinName Algorithm ProofType  TotalCoinsMined TotalCoinSupply\n",
       "0    42 Coin    Scrypt   PoW/PoS     4.199995e+01              42\n",
       "2    404Coin    Scrypt   PoW/PoS     1.055185e+09       532000000\n",
       "4        808   SHA-256   PoW/PoS     0.000000e+00               0\n",
       "5  EliteCoin       X13   PoW/PoS     2.927942e+10    314159265359\n",
       "7    Bitcoin   SHA-256       PoW     1.792718e+07        21000000"
      ],
      "text/html": "<div>\n<style scoped>\n    .dataframe tbody tr th:only-of-type {\n        vertical-align: middle;\n    }\n\n    .dataframe tbody tr th {\n        vertical-align: top;\n    }\n\n    .dataframe thead th {\n        text-align: right;\n    }\n</style>\n<table border=\"1\" class=\"dataframe\">\n  <thead>\n    <tr style=\"text-align: right;\">\n      <th></th>\n      <th>CoinName</th>\n      <th>Algorithm</th>\n      <th>ProofType</th>\n      <th>TotalCoinsMined</th>\n      <th>TotalCoinSupply</th>\n    </tr>\n  </thead>\n  <tbody>\n    <tr>\n      <th>0</th>\n      <td>42 Coin</td>\n      <td>Scrypt</td>\n      <td>PoW/PoS</td>\n      <td>4.199995e+01</td>\n      <td>42</td>\n    </tr>\n    <tr>\n      <th>2</th>\n      <td>404Coin</td>\n      <td>Scrypt</td>\n      <td>PoW/PoS</td>\n      <td>1.055185e+09</td>\n      <td>532000000</td>\n    </tr>\n    <tr>\n      <th>4</th>\n      <td>808</td>\n      <td>SHA-256</td>\n      <td>PoW/PoS</td>\n      <td>0.000000e+00</td>\n      <td>0</td>\n    </tr>\n    <tr>\n      <th>5</th>\n      <td>EliteCoin</td>\n      <td>X13</td>\n      <td>PoW/PoS</td>\n      <td>2.927942e+10</td>\n      <td>314159265359</td>\n    </tr>\n    <tr>\n      <th>7</th>\n      <td>Bitcoin</td>\n      <td>SHA-256</td>\n      <td>PoW</td>\n      <td>1.792718e+07</td>\n      <td>21000000</td>\n    </tr>\n  </tbody>\n</table>\n</div>"
     },
     "metadata": {},
     "execution_count": 43
    }
   ],
   "source": [
    "# Remove rows with at least 1 null value\n",
    "crypto_df = crypto_df.dropna (how=\"any\", axis=0)\n",
    "crypto_df.head()"
   ]
  },
  {
   "cell_type": "code",
   "execution_count": 45,
   "metadata": {},
   "outputs": [
    {
     "output_type": "execute_result",
     "data": {
      "text/plain": [
       "         CoinName    Algorithm ProofType  TotalCoinsMined TotalCoinSupply\n",
       "0         42 Coin       Scrypt   PoW/PoS     4.199995e+01              42\n",
       "2         404Coin       Scrypt   PoW/PoS     1.055185e+09       532000000\n",
       "5       EliteCoin          X13   PoW/PoS     2.927942e+10    314159265359\n",
       "7         Bitcoin      SHA-256       PoW     1.792718e+07        21000000\n",
       "8        Ethereum       Ethash       PoW     1.076842e+08               0\n",
       "...           ...          ...       ...              ...             ...\n",
       "1238       ZEPHYR      SHA-256      DPoS     2.000000e+09      2000000000\n",
       "1242      Gapcoin       Scrypt   PoW/PoS     1.493105e+07       250000000\n",
       "1245       Beldex  CryptoNight       PoW     9.802226e+08      1400222610\n",
       "1246      Horizen     Equihash       PoW     7.296538e+06        21000000\n",
       "1247  BitcoinPlus       Scrypt       PoS     1.283270e+05         1000000\n",
       "\n",
       "[532 rows x 5 columns]"
      ],
      "text/html": "<div>\n<style scoped>\n    .dataframe tbody tr th:only-of-type {\n        vertical-align: middle;\n    }\n\n    .dataframe tbody tr th {\n        vertical-align: top;\n    }\n\n    .dataframe thead th {\n        text-align: right;\n    }\n</style>\n<table border=\"1\" class=\"dataframe\">\n  <thead>\n    <tr style=\"text-align: right;\">\n      <th></th>\n      <th>CoinName</th>\n      <th>Algorithm</th>\n      <th>ProofType</th>\n      <th>TotalCoinsMined</th>\n      <th>TotalCoinSupply</th>\n    </tr>\n  </thead>\n  <tbody>\n    <tr>\n      <th>0</th>\n      <td>42 Coin</td>\n      <td>Scrypt</td>\n      <td>PoW/PoS</td>\n      <td>4.199995e+01</td>\n      <td>42</td>\n    </tr>\n    <tr>\n      <th>2</th>\n      <td>404Coin</td>\n      <td>Scrypt</td>\n      <td>PoW/PoS</td>\n      <td>1.055185e+09</td>\n      <td>532000000</td>\n    </tr>\n    <tr>\n      <th>5</th>\n      <td>EliteCoin</td>\n      <td>X13</td>\n      <td>PoW/PoS</td>\n      <td>2.927942e+10</td>\n      <td>314159265359</td>\n    </tr>\n    <tr>\n      <th>7</th>\n      <td>Bitcoin</td>\n      <td>SHA-256</td>\n      <td>PoW</td>\n      <td>1.792718e+07</td>\n      <td>21000000</td>\n    </tr>\n    <tr>\n      <th>8</th>\n      <td>Ethereum</td>\n      <td>Ethash</td>\n      <td>PoW</td>\n      <td>1.076842e+08</td>\n      <td>0</td>\n    </tr>\n    <tr>\n      <th>...</th>\n      <td>...</td>\n      <td>...</td>\n      <td>...</td>\n      <td>...</td>\n      <td>...</td>\n    </tr>\n    <tr>\n      <th>1238</th>\n      <td>ZEPHYR</td>\n      <td>SHA-256</td>\n      <td>DPoS</td>\n      <td>2.000000e+09</td>\n      <td>2000000000</td>\n    </tr>\n    <tr>\n      <th>1242</th>\n      <td>Gapcoin</td>\n      <td>Scrypt</td>\n      <td>PoW/PoS</td>\n      <td>1.493105e+07</td>\n      <td>250000000</td>\n    </tr>\n    <tr>\n      <th>1245</th>\n      <td>Beldex</td>\n      <td>CryptoNight</td>\n      <td>PoW</td>\n      <td>9.802226e+08</td>\n      <td>1400222610</td>\n    </tr>\n    <tr>\n      <th>1246</th>\n      <td>Horizen</td>\n      <td>Equihash</td>\n      <td>PoW</td>\n      <td>7.296538e+06</td>\n      <td>21000000</td>\n    </tr>\n    <tr>\n      <th>1247</th>\n      <td>BitcoinPlus</td>\n      <td>Scrypt</td>\n      <td>PoS</td>\n      <td>1.283270e+05</td>\n      <td>1000000</td>\n    </tr>\n  </tbody>\n</table>\n<p>532 rows × 5 columns</p>\n</div>"
     },
     "metadata": {},
     "execution_count": 45
    }
   ],
   "source": [
    "# Remove rows with cryptocurrencies having no coins mined\n",
    "crypto_df = crypto_df.loc [crypto_df[\"TotalCoinsMined\"] > 0]\n",
    "crypto_df.dropna()"
   ]
  },
  {
   "cell_type": "code",
   "execution_count": 61,
   "metadata": {},
   "outputs": [],
   "source": [
    "crypto_clean = crypto_df.dropna()"
   ]
  },
  {
   "cell_type": "code",
   "execution_count": 62,
   "metadata": {},
   "outputs": [
    {
     "output_type": "execute_result",
     "data": {
      "text/plain": [
       "Empty DataFrame\n",
       "Columns: []\n",
       "Index: [42 Coin, 365Coin, 404Coin, SixEleven, 808]"
      ],
      "text/html": "<div>\n<style scoped>\n    .dataframe tbody tr th:only-of-type {\n        vertical-align: middle;\n    }\n\n    .dataframe tbody tr th {\n        vertical-align: top;\n    }\n\n    .dataframe thead th {\n        text-align: right;\n    }\n</style>\n<table border=\"1\" class=\"dataframe\">\n  <thead>\n    <tr style=\"text-align: right;\">\n      <th></th>\n    </tr>\n    <tr>\n      <th>CoinName</th>\n    </tr>\n  </thead>\n  <tbody>\n    <tr>\n      <th>42 Coin</th>\n    </tr>\n    <tr>\n      <th>365Coin</th>\n    </tr>\n    <tr>\n      <th>404Coin</th>\n    </tr>\n    <tr>\n      <th>SixEleven</th>\n    </tr>\n    <tr>\n      <th>808</th>\n    </tr>\n  </tbody>\n</table>\n</div>"
     },
     "metadata": {},
     "execution_count": 62
    }
   ],
   "source": [
    "# Store the 'CoinName'column in its own DataFrame prior to dropping it from crypto_df\n",
    "coin_name = pd.DataFrame(file_path, columns = [\"CoinName\"])\n",
    "coin_name = coin_name.set_index (\"CoinName\")\n",
    "coin_name.head()"
   ]
  },
  {
   "cell_type": "code",
   "execution_count": 49,
   "metadata": {},
   "outputs": [
    {
     "output_type": "execute_result",
     "data": {
      "text/plain": [
       "  Algorithm ProofType  TotalCoinsMined TotalCoinSupply\n",
       "0    Scrypt   PoW/PoS     4.199995e+01              42\n",
       "2    Scrypt   PoW/PoS     1.055185e+09       532000000\n",
       "5       X13   PoW/PoS     2.927942e+10    314159265359\n",
       "7   SHA-256       PoW     1.792718e+07        21000000\n",
       "8    Ethash       PoW     1.076842e+08               0"
      ],
      "text/html": "<div>\n<style scoped>\n    .dataframe tbody tr th:only-of-type {\n        vertical-align: middle;\n    }\n\n    .dataframe tbody tr th {\n        vertical-align: top;\n    }\n\n    .dataframe thead th {\n        text-align: right;\n    }\n</style>\n<table border=\"1\" class=\"dataframe\">\n  <thead>\n    <tr style=\"text-align: right;\">\n      <th></th>\n      <th>Algorithm</th>\n      <th>ProofType</th>\n      <th>TotalCoinsMined</th>\n      <th>TotalCoinSupply</th>\n    </tr>\n  </thead>\n  <tbody>\n    <tr>\n      <th>0</th>\n      <td>Scrypt</td>\n      <td>PoW/PoS</td>\n      <td>4.199995e+01</td>\n      <td>42</td>\n    </tr>\n    <tr>\n      <th>2</th>\n      <td>Scrypt</td>\n      <td>PoW/PoS</td>\n      <td>1.055185e+09</td>\n      <td>532000000</td>\n    </tr>\n    <tr>\n      <th>5</th>\n      <td>X13</td>\n      <td>PoW/PoS</td>\n      <td>2.927942e+10</td>\n      <td>314159265359</td>\n    </tr>\n    <tr>\n      <th>7</th>\n      <td>SHA-256</td>\n      <td>PoW</td>\n      <td>1.792718e+07</td>\n      <td>21000000</td>\n    </tr>\n    <tr>\n      <th>8</th>\n      <td>Ethash</td>\n      <td>PoW</td>\n      <td>1.076842e+08</td>\n      <td>0</td>\n    </tr>\n  </tbody>\n</table>\n</div>"
     },
     "metadata": {},
     "execution_count": 49
    }
   ],
   "source": [
    "# Drop the 'CoinName' column since it's not going to be used on the clustering algorithm\n",
    "crypto_df = crypto_df.drop([\"CoinName\"], axis = 1)\n",
    "crypto_df.head()"
   ]
  },
  {
   "cell_type": "code",
   "execution_count": 50,
   "metadata": {},
   "outputs": [
    {
     "output_type": "execute_result",
     "data": {
      "text/plain": [
       "   TotalCoinsMined TotalCoinSupply  Algorithm_1GB AES Pattern Search  \\\n",
       "0     4.199995e+01              42                                 0   \n",
       "2     1.055185e+09       532000000                                 0   \n",
       "5     2.927942e+10    314159265359                                 0   \n",
       "7     1.792718e+07        21000000                                 0   \n",
       "8     1.076842e+08               0                                 0   \n",
       "\n",
       "   Algorithm_536  Algorithm_Argon2d  Algorithm_BLAKE256  Algorithm_Blake  \\\n",
       "0              0                  0                   0                0   \n",
       "2              0                  0                   0                0   \n",
       "5              0                  0                   0                0   \n",
       "7              0                  0                   0                0   \n",
       "8              0                  0                   0                0   \n",
       "\n",
       "   Algorithm_Blake2S  Algorithm_Blake2b  Algorithm_C11  ...  \\\n",
       "0                  0                  0              0  ...   \n",
       "2                  0                  0              0  ...   \n",
       "5                  0                  0              0  ...   \n",
       "7                  0                  0              0  ...   \n",
       "8                  0                  0              0  ...   \n",
       "\n",
       "   ProofType_PoW/PoS  ProofType_PoW/PoS   ProofType_PoW/PoW  \\\n",
       "0                  1                   0                  0   \n",
       "2                  1                   0                  0   \n",
       "5                  1                   0                  0   \n",
       "7                  0                   0                  0   \n",
       "8                  0                   0                  0   \n",
       "\n",
       "   ProofType_PoW/nPoS  ProofType_Pos  ProofType_Proof of Authority  \\\n",
       "0                   0              0                             0   \n",
       "2                   0              0                             0   \n",
       "5                   0              0                             0   \n",
       "7                   0              0                             0   \n",
       "8                   0              0                             0   \n",
       "\n",
       "   ProofType_Proof of Trust  ProofType_TPoS  ProofType_Zero-Knowledge Proof  \\\n",
       "0                         0               0                               0   \n",
       "2                         0               0                               0   \n",
       "5                         0               0                               0   \n",
       "7                         0               0                               0   \n",
       "8                         0               0                               0   \n",
       "\n",
       "   ProofType_dPoW/PoW  \n",
       "0                   0  \n",
       "2                   0  \n",
       "5                   0  \n",
       "7                   0  \n",
       "8                   0  \n",
       "\n",
       "[5 rows x 98 columns]"
      ],
      "text/html": "<div>\n<style scoped>\n    .dataframe tbody tr th:only-of-type {\n        vertical-align: middle;\n    }\n\n    .dataframe tbody tr th {\n        vertical-align: top;\n    }\n\n    .dataframe thead th {\n        text-align: right;\n    }\n</style>\n<table border=\"1\" class=\"dataframe\">\n  <thead>\n    <tr style=\"text-align: right;\">\n      <th></th>\n      <th>TotalCoinsMined</th>\n      <th>TotalCoinSupply</th>\n      <th>Algorithm_1GB AES Pattern Search</th>\n      <th>Algorithm_536</th>\n      <th>Algorithm_Argon2d</th>\n      <th>Algorithm_BLAKE256</th>\n      <th>Algorithm_Blake</th>\n      <th>Algorithm_Blake2S</th>\n      <th>Algorithm_Blake2b</th>\n      <th>Algorithm_C11</th>\n      <th>...</th>\n      <th>ProofType_PoW/PoS</th>\n      <th>ProofType_PoW/PoS</th>\n      <th>ProofType_PoW/PoW</th>\n      <th>ProofType_PoW/nPoS</th>\n      <th>ProofType_Pos</th>\n      <th>ProofType_Proof of Authority</th>\n      <th>ProofType_Proof of Trust</th>\n      <th>ProofType_TPoS</th>\n      <th>ProofType_Zero-Knowledge Proof</th>\n      <th>ProofType_dPoW/PoW</th>\n    </tr>\n  </thead>\n  <tbody>\n    <tr>\n      <th>0</th>\n      <td>4.199995e+01</td>\n      <td>42</td>\n      <td>0</td>\n      <td>0</td>\n      <td>0</td>\n      <td>0</td>\n      <td>0</td>\n      <td>0</td>\n      <td>0</td>\n      <td>0</td>\n      <td>...</td>\n      <td>1</td>\n      <td>0</td>\n      <td>0</td>\n      <td>0</td>\n      <td>0</td>\n      <td>0</td>\n      <td>0</td>\n      <td>0</td>\n      <td>0</td>\n      <td>0</td>\n    </tr>\n    <tr>\n      <th>2</th>\n      <td>1.055185e+09</td>\n      <td>532000000</td>\n      <td>0</td>\n      <td>0</td>\n      <td>0</td>\n      <td>0</td>\n      <td>0</td>\n      <td>0</td>\n      <td>0</td>\n      <td>0</td>\n      <td>...</td>\n      <td>1</td>\n      <td>0</td>\n      <td>0</td>\n      <td>0</td>\n      <td>0</td>\n      <td>0</td>\n      <td>0</td>\n      <td>0</td>\n      <td>0</td>\n      <td>0</td>\n    </tr>\n    <tr>\n      <th>5</th>\n      <td>2.927942e+10</td>\n      <td>314159265359</td>\n      <td>0</td>\n      <td>0</td>\n      <td>0</td>\n      <td>0</td>\n      <td>0</td>\n      <td>0</td>\n      <td>0</td>\n      <td>0</td>\n      <td>...</td>\n      <td>1</td>\n      <td>0</td>\n      <td>0</td>\n      <td>0</td>\n      <td>0</td>\n      <td>0</td>\n      <td>0</td>\n      <td>0</td>\n      <td>0</td>\n      <td>0</td>\n    </tr>\n    <tr>\n      <th>7</th>\n      <td>1.792718e+07</td>\n      <td>21000000</td>\n      <td>0</td>\n      <td>0</td>\n      <td>0</td>\n      <td>0</td>\n      <td>0</td>\n      <td>0</td>\n      <td>0</td>\n      <td>0</td>\n      <td>...</td>\n      <td>0</td>\n      <td>0</td>\n      <td>0</td>\n      <td>0</td>\n      <td>0</td>\n      <td>0</td>\n      <td>0</td>\n      <td>0</td>\n      <td>0</td>\n      <td>0</td>\n    </tr>\n    <tr>\n      <th>8</th>\n      <td>1.076842e+08</td>\n      <td>0</td>\n      <td>0</td>\n      <td>0</td>\n      <td>0</td>\n      <td>0</td>\n      <td>0</td>\n      <td>0</td>\n      <td>0</td>\n      <td>0</td>\n      <td>...</td>\n      <td>0</td>\n      <td>0</td>\n      <td>0</td>\n      <td>0</td>\n      <td>0</td>\n      <td>0</td>\n      <td>0</td>\n      <td>0</td>\n      <td>0</td>\n      <td>0</td>\n    </tr>\n  </tbody>\n</table>\n<p>5 rows × 98 columns</p>\n</div>"
     },
     "metadata": {},
     "execution_count": 50
    }
   ],
   "source": [
    "# Create dummy variables for text features\n",
    "crypto_df = pd.get_dummies (crypto_df, columns = [\"Algorithm\", \"ProofType\"])\n",
    "crypto_df.head()"
   ]
  },
  {
   "cell_type": "code",
   "execution_count": 51,
   "metadata": {},
   "outputs": [],
   "source": [
    "# Standardize data\n",
    "data_scaler = StandardScaler()"
   ]
  },
  {
   "cell_type": "code",
   "execution_count": 52,
   "metadata": {},
   "outputs": [
    {
     "output_type": "execute_result",
     "data": {
      "text/plain": [
       "StandardScaler()"
      ]
     },
     "metadata": {},
     "execution_count": 52
    }
   ],
   "source": [
    "# Fitting the scaler\n",
    "data_scaler.fit (crypto_df)"
   ]
  },
  {
   "cell_type": "code",
   "execution_count": 53,
   "metadata": {},
   "outputs": [],
   "source": [
    "# Transforming the data\n",
    "crypto_df = data_scaler.transform (crypto_df)"
   ]
  },
  {
   "cell_type": "markdown",
   "metadata": {},
   "source": [
    "### Reducing Dimensions Using PCA"
   ]
  },
  {
   "cell_type": "code",
   "execution_count": 54,
   "metadata": {},
   "outputs": [],
   "source": [
    "# Use PCA to reduce dimensions to 3 principal components\n",
    "pca = PCA(n_components=3)"
   ]
  },
  {
   "cell_type": "code",
   "execution_count": 55,
   "metadata": {},
   "outputs": [],
   "source": [
    "# Get two principal components for the iris data.\n",
    "crypto_df = pca.fit_transform(crypto_df)"
   ]
  },
  {
   "cell_type": "code",
   "execution_count": 56,
   "metadata": {},
   "outputs": [
    {
     "output_type": "execute_result",
     "data": {
      "text/plain": [
       "       PC 1      PC 2      PC 3\n",
       "0 -0.337766  1.047356 -0.516617\n",
       "1 -0.321096  1.047314 -0.516875\n",
       "2  2.307687  1.608367 -0.588617\n",
       "3 -0.147831 -1.290161  0.158763\n",
       "4 -0.150164 -2.027721  0.348677"
      ],
      "text/html": "<div>\n<style scoped>\n    .dataframe tbody tr th:only-of-type {\n        vertical-align: middle;\n    }\n\n    .dataframe tbody tr th {\n        vertical-align: top;\n    }\n\n    .dataframe thead th {\n        text-align: right;\n    }\n</style>\n<table border=\"1\" class=\"dataframe\">\n  <thead>\n    <tr style=\"text-align: right;\">\n      <th></th>\n      <th>PC 1</th>\n      <th>PC 2</th>\n      <th>PC 3</th>\n    </tr>\n  </thead>\n  <tbody>\n    <tr>\n      <th>0</th>\n      <td>-0.337766</td>\n      <td>1.047356</td>\n      <td>-0.516617</td>\n    </tr>\n    <tr>\n      <th>1</th>\n      <td>-0.321096</td>\n      <td>1.047314</td>\n      <td>-0.516875</td>\n    </tr>\n    <tr>\n      <th>2</th>\n      <td>2.307687</td>\n      <td>1.608367</td>\n      <td>-0.588617</td>\n    </tr>\n    <tr>\n      <th>3</th>\n      <td>-0.147831</td>\n      <td>-1.290161</td>\n      <td>0.158763</td>\n    </tr>\n    <tr>\n      <th>4</th>\n      <td>-0.150164</td>\n      <td>-2.027721</td>\n      <td>0.348677</td>\n    </tr>\n  </tbody>\n</table>\n</div>"
     },
     "metadata": {},
     "execution_count": 56
    }
   ],
   "source": [
    "# Create a DataFrame with the principal components data\n",
    "crypto_df = pd.DataFrame (data = crypto_df, columns=[\"PC 1\", \"PC 2\", \"PC 3\"])\n",
    "crypto_df.head()"
   ]
  },
  {
   "cell_type": "markdown",
   "metadata": {},
   "source": [
    "### Clustering Crytocurrencies Using K-Means\n",
    "\n",
    "#### Find the Best Value for `k` Using the Elbow Curve"
   ]
  },
  {
   "cell_type": "code",
   "execution_count": 57,
   "metadata": {},
   "outputs": [
    {
     "output_type": "display_data",
     "data": {},
     "metadata": {}
    },
    {
     "output_type": "execute_result",
     "data": {
      "text/html": "<div id='1102'>\n\n\n\n\n\n  <div class=\"bk-root\" id=\"3c13f21c-d39c-4913-9121-6c217d805836\" data-root-id=\"1102\"></div>\n</div>\n<script type=\"application/javascript\">(function(root) {\n  function embed_document(root) {\n    var docs_json = {\"599555f2-9444-4fe8-b1da-8f6faedb7980\":{\"roots\":{\"references\":[{\"attributes\":{\"line_color\":\"#1f77b3\",\"line_width\":2,\"x\":{\"field\":\"k\"},\"y\":{\"field\":\"inertia\"}},\"id\":\"1140\",\"type\":\"Line\"},{\"attributes\":{\"data_source\":{\"id\":\"1137\"},\"glyph\":{\"id\":\"1140\"},\"hover_glyph\":null,\"muted_glyph\":{\"id\":\"1142\"},\"nonselection_glyph\":{\"id\":\"1141\"},\"selection_glyph\":null,\"view\":{\"id\":\"1144\"}},\"id\":\"1143\",\"type\":\"GlyphRenderer\"},{\"attributes\":{\"text\":\"Elbow Curve\",\"text_color\":{\"value\":\"black\"},\"text_font_size\":{\"value\":\"12pt\"}},\"id\":\"1108\",\"type\":\"Title\"},{\"attributes\":{\"line_alpha\":0.1,\"line_color\":\"#1f77b3\",\"line_width\":2,\"x\":{\"field\":\"k\"},\"y\":{\"field\":\"inertia\"}},\"id\":\"1141\",\"type\":\"Line\"},{\"attributes\":{\"line_alpha\":0.2,\"line_color\":\"#1f77b3\",\"line_width\":2,\"x\":{\"field\":\"k\"},\"y\":{\"field\":\"inertia\"}},\"id\":\"1142\",\"type\":\"Line\"},{\"attributes\":{\"ticks\":[1,2,3,4,5,6,7,8,9,10]},\"id\":\"1145\",\"type\":\"FixedTicker\"},{\"attributes\":{},\"id\":\"1138\",\"type\":\"Selection\"},{\"attributes\":{\"source\":{\"id\":\"1137\"}},\"id\":\"1144\",\"type\":\"CDSView\"},{\"attributes\":{\"callback\":null,\"renderers\":[{\"id\":\"1143\"}],\"tags\":[\"hv_created\"],\"tooltips\":[[\"k\",\"@{k}\"],[\"inertia\",\"@{inertia}\"]]},\"id\":\"1106\",\"type\":\"HoverTool\"},{\"attributes\":{\"axis\":{\"id\":\"1116\"},\"grid_line_color\":null,\"ticker\":null},\"id\":\"1119\",\"type\":\"Grid\"},{\"attributes\":{\"bottom_units\":\"screen\",\"fill_alpha\":0.5,\"fill_color\":\"lightgrey\",\"left_units\":\"screen\",\"level\":\"overlay\",\"line_alpha\":1.0,\"line_color\":\"black\",\"line_dash\":[4,4],\"line_width\":2,\"right_units\":\"screen\",\"top_units\":\"screen\"},\"id\":\"1129\",\"type\":\"BoxAnnotation\"},{\"attributes\":{\"end\":10.0,\"reset_end\":10.0,\"reset_start\":1.0,\"start\":1.0,\"tags\":[[[\"k\",\"k\",null]]]},\"id\":\"1104\",\"type\":\"Range1d\"},{\"attributes\":{\"data\":{\"inertia\":{\"__ndarray__\":\"sFFHHBRtrEAvy2HavVKjQIjqhp7xRpdAy7N0HaWHgED3UHuff3d1QFhPSGtFgHBAlLje6f3PaEDTj2wGJeBhQD+kjh2taF1AeqkvKegvV0A=\",\"dtype\":\"float64\",\"order\":\"little\",\"shape\":[10]},\"k\":[1,2,3,4,5,6,7,8,9,10]},\"selected\":{\"id\":\"1138\"},\"selection_policy\":{\"id\":\"1156\"}},\"id\":\"1137\",\"type\":\"ColumnDataSource\"},{\"attributes\":{\"end\":3993.1183515757934,\"reset_end\":3993.1183515757934,\"reset_start\":-261.8305283514717,\"start\":-261.8305283514717,\"tags\":[[[\"inertia\",\"inertia\",null]]]},\"id\":\"1105\",\"type\":\"Range1d\"},{\"attributes\":{},\"id\":\"1150\",\"type\":\"BasicTickFormatter\"},{\"attributes\":{\"children\":[{\"id\":\"1103\"},{\"id\":\"1107\"},{\"id\":\"1166\"}],\"margin\":[0,0,0,0],\"name\":\"Row01713\",\"tags\":[\"embedded\"]},\"id\":\"1102\",\"type\":\"Row\"},{\"attributes\":{},\"id\":\"1112\",\"type\":\"LinearScale\"},{\"attributes\":{},\"id\":\"1146\",\"type\":\"BasicTickFormatter\"},{\"attributes\":{\"margin\":[5,5,5,5],\"name\":\"HSpacer01717\",\"sizing_mode\":\"stretch_width\"},\"id\":\"1103\",\"type\":\"Spacer\"},{\"attributes\":{\"below\":[{\"id\":\"1116\"}],\"center\":[{\"id\":\"1119\"},{\"id\":\"1123\"}],\"left\":[{\"id\":\"1120\"}],\"margin\":[5,5,5,5],\"min_border_bottom\":10,\"min_border_left\":10,\"min_border_right\":10,\"min_border_top\":10,\"plot_height\":300,\"plot_width\":700,\"renderers\":[{\"id\":\"1143\"}],\"sizing_mode\":\"fixed\",\"title\":{\"id\":\"1108\"},\"toolbar\":{\"id\":\"1130\"},\"x_range\":{\"id\":\"1104\"},\"x_scale\":{\"id\":\"1112\"},\"y_range\":{\"id\":\"1105\"},\"y_scale\":{\"id\":\"1114\"}},\"id\":\"1107\",\"subtype\":\"Figure\",\"type\":\"Plot\"},{\"attributes\":{},\"id\":\"1156\",\"type\":\"UnionRenderers\"},{\"attributes\":{},\"id\":\"1125\",\"type\":\"PanTool\"},{\"attributes\":{},\"id\":\"1114\",\"type\":\"LinearScale\"},{\"attributes\":{\"axis_label\":\"k\",\"bounds\":\"auto\",\"formatter\":{\"id\":\"1146\"},\"major_label_orientation\":\"horizontal\",\"ticker\":{\"id\":\"1145\"}},\"id\":\"1116\",\"type\":\"LinearAxis\"},{\"attributes\":{\"margin\":[5,5,5,5],\"name\":\"HSpacer01718\",\"sizing_mode\":\"stretch_width\"},\"id\":\"1166\",\"type\":\"Spacer\"},{\"attributes\":{\"axis\":{\"id\":\"1120\"},\"dimension\":1,\"grid_line_color\":null,\"ticker\":null},\"id\":\"1123\",\"type\":\"Grid\"},{\"attributes\":{\"axis_label\":\"inertia\",\"bounds\":\"auto\",\"formatter\":{\"id\":\"1150\"},\"major_label_orientation\":\"horizontal\",\"ticker\":{\"id\":\"1121\"}},\"id\":\"1120\",\"type\":\"LinearAxis\"},{\"attributes\":{},\"id\":\"1121\",\"type\":\"BasicTicker\"},{\"attributes\":{},\"id\":\"1126\",\"type\":\"WheelZoomTool\"},{\"attributes\":{\"active_drag\":\"auto\",\"active_inspect\":\"auto\",\"active_multi\":null,\"active_scroll\":\"auto\",\"active_tap\":\"auto\",\"tools\":[{\"id\":\"1106\"},{\"id\":\"1124\"},{\"id\":\"1125\"},{\"id\":\"1126\"},{\"id\":\"1127\"},{\"id\":\"1128\"}]},\"id\":\"1130\",\"type\":\"Toolbar\"},{\"attributes\":{},\"id\":\"1124\",\"type\":\"SaveTool\"},{\"attributes\":{\"overlay\":{\"id\":\"1129\"}},\"id\":\"1127\",\"type\":\"BoxZoomTool\"},{\"attributes\":{},\"id\":\"1128\",\"type\":\"ResetTool\"}],\"root_ids\":[\"1102\"]},\"title\":\"Bokeh Application\",\"version\":\"2.2.3\"}};\n    var render_items = [{\"docid\":\"599555f2-9444-4fe8-b1da-8f6faedb7980\",\"root_ids\":[\"1102\"],\"roots\":{\"1102\":\"3c13f21c-d39c-4913-9121-6c217d805836\"}}];\n    root.Bokeh.embed.embed_items_notebook(docs_json, render_items);\n  }\n  if (root.Bokeh !== undefined && root.Bokeh.Panel !== undefined) {\n    embed_document(root);\n  } else {\n    var attempts = 0;\n    var timer = setInterval(function(root) {\n      if (root.Bokeh !== undefined && root.Bokeh.Panel !== undefined) {\n        clearInterval(timer);\n        embed_document(root);\n      } else if (document.readyState == \"complete\") {\n        attempts++;\n        if (attempts > 100) {\n          clearInterval(timer);\n          console.log(\"Bokeh: ERROR: Unable to run BokehJS code because BokehJS library is missing\");\n        }\n      }\n    }, 10, root)\n  }\n})(window);</script>",
      "application/vnd.holoviews_exec.v0+json": "",
      "text/plain": [
       ":Curve   [k]   (inertia)"
      ]
     },
     "metadata": {
      "application/vnd.holoviews_exec.v0+json": {
       "id": "1102"
      }
     },
     "execution_count": 57
    }
   ],
   "source": [
    "inertia = []\n",
    "k = list(range(1, 11))\n",
    "\n",
    "# Calculate the inertia for the range of k values\n",
    "for i in k:\n",
    "    km = KMeans(n_clusters=i, random_state=0)\n",
    "    km.fit(crypto_df)\n",
    "    inertia.append(km.inertia_)\n",
    "\n",
    "# Create the Elbow Curve using hvPlot\n",
    "pcs_df = {\"k\": k, \"inertia\": inertia}\n",
    "pcs_df = pd.DataFrame(pcs_df)\n",
    "pcs_df.hvplot.line(x=\"k\", y=\"inertia\", xticks=k, title=\"Elbow Curve\")"
   ]
  },
  {
   "cell_type": "markdown",
   "metadata": {},
   "source": [
    "Running K-Means with `k= 7, inertia = 27.8"
   ]
  },
  {
   "cell_type": "code",
   "execution_count": 60,
   "metadata": {},
   "outputs": [
    {
     "output_type": "execute_result",
     "data": {
      "text/plain": [
       "        Algorithm ProofType  TotalCoinsMined TotalCoinSupply  PC 1  PC 2  \\\n",
       "1238      SHA-256      DPoS     2.000000e+09      2000000000   NaN   NaN   \n",
       "1242       Scrypt   PoW/PoS     1.493105e+07       250000000   NaN   NaN   \n",
       "1245  CryptoNight       PoW     9.802226e+08      1400222610   NaN   NaN   \n",
       "1246     Equihash       PoW     7.296538e+06        21000000   NaN   NaN   \n",
       "1247       Scrypt       PoS     1.283270e+05         1000000   NaN   NaN   \n",
       "\n",
       "      PC 3     CoinName  Class  \n",
       "1238   NaN       ZEPHYR    NaN  \n",
       "1242   NaN      Gapcoin    NaN  \n",
       "1245   NaN       Beldex    NaN  \n",
       "1246   NaN      Horizen    NaN  \n",
       "1247   NaN  BitcoinPlus    NaN  "
      ],
      "text/html": "<div>\n<style scoped>\n    .dataframe tbody tr th:only-of-type {\n        vertical-align: middle;\n    }\n\n    .dataframe tbody tr th {\n        vertical-align: top;\n    }\n\n    .dataframe thead th {\n        text-align: right;\n    }\n</style>\n<table border=\"1\" class=\"dataframe\">\n  <thead>\n    <tr style=\"text-align: right;\">\n      <th></th>\n      <th>Algorithm</th>\n      <th>ProofType</th>\n      <th>TotalCoinsMined</th>\n      <th>TotalCoinSupply</th>\n      <th>PC 1</th>\n      <th>PC 2</th>\n      <th>PC 3</th>\n      <th>CoinName</th>\n      <th>Class</th>\n    </tr>\n  </thead>\n  <tbody>\n    <tr>\n      <th>1238</th>\n      <td>SHA-256</td>\n      <td>DPoS</td>\n      <td>2.000000e+09</td>\n      <td>2000000000</td>\n      <td>NaN</td>\n      <td>NaN</td>\n      <td>NaN</td>\n      <td>ZEPHYR</td>\n      <td>NaN</td>\n    </tr>\n    <tr>\n      <th>1242</th>\n      <td>Scrypt</td>\n      <td>PoW/PoS</td>\n      <td>1.493105e+07</td>\n      <td>250000000</td>\n      <td>NaN</td>\n      <td>NaN</td>\n      <td>NaN</td>\n      <td>Gapcoin</td>\n      <td>NaN</td>\n    </tr>\n    <tr>\n      <th>1245</th>\n      <td>CryptoNight</td>\n      <td>PoW</td>\n      <td>9.802226e+08</td>\n      <td>1400222610</td>\n      <td>NaN</td>\n      <td>NaN</td>\n      <td>NaN</td>\n      <td>Beldex</td>\n      <td>NaN</td>\n    </tr>\n    <tr>\n      <th>1246</th>\n      <td>Equihash</td>\n      <td>PoW</td>\n      <td>7.296538e+06</td>\n      <td>21000000</td>\n      <td>NaN</td>\n      <td>NaN</td>\n      <td>NaN</td>\n      <td>Horizen</td>\n      <td>NaN</td>\n    </tr>\n    <tr>\n      <th>1247</th>\n      <td>Scrypt</td>\n      <td>PoS</td>\n      <td>1.283270e+05</td>\n      <td>1000000</td>\n      <td>NaN</td>\n      <td>NaN</td>\n      <td>NaN</td>\n      <td>BitcoinPlus</td>\n      <td>NaN</td>\n    </tr>\n  </tbody>\n</table>\n</div>"
     },
     "metadata": {},
     "execution_count": 60
    }
   ],
   "source": [
    "# Initialize the K-Means model with k = 7\n",
    "model = KMeans(n_clusters=7, random_state=0)\n",
    "\n",
    "# Fit the model\n",
    "model.fit(pcs_df)\n",
    "\n",
    "# Predict clusters\n",
    "predictions = model.predict(pcs_df)\n",
    "\n",
    "# Create a new DataFrame including predicted clusters and cryptocurrencies features\n",
    "clustered_df = pd.DataFrame (data = crypto_clean, columns=[\"Algorithm\", \"ProofType\", \"TotalCoinsMined\", \"TotalCoinSupply\", \"PC 1\", \"PC 2\", \"PC 3\", \"CoinName\", \"Class\"])\n",
    "clustered_df.tail()\n"
   ]
  },
  {
   "cell_type": "markdown",
   "metadata": {},
   "source": [
    "### Visualizing Results\n",
    "\n",
    "#### 3D-Scatter with Clusters"
   ]
  },
  {
   "cell_type": "code",
   "execution_count": 63,
   "metadata": {},
   "outputs": [
    {
     "output_type": "error",
     "ename": "ValueError",
     "evalue": "nan is not in list",
     "traceback": [
      "\u001b[1;31m---------------------------------------------------------------------------\u001b[0m",
      "\u001b[1;31mValueError\u001b[0m                                Traceback (most recent call last)",
      "\u001b[1;32m<ipython-input-63-5dabaa19087d>\u001b[0m in \u001b[0;36m<module>\u001b[1;34m\u001b[0m\n\u001b[0;32m      1\u001b[0m \u001b[1;31m# Create a 3D-Scatter with the PCA data and the clusters\u001b[0m\u001b[1;33m\u001b[0m\u001b[1;33m\u001b[0m\u001b[1;33m\u001b[0m\u001b[0m\n\u001b[1;32m----> 2\u001b[1;33m fig = px.scatter_3d(\n\u001b[0m\u001b[0;32m      3\u001b[0m     \u001b[0mclustered_df\u001b[0m\u001b[1;33m,\u001b[0m\u001b[1;33m\u001b[0m\u001b[1;33m\u001b[0m\u001b[0m\n\u001b[0;32m      4\u001b[0m     \u001b[0mx\u001b[0m\u001b[1;33m=\u001b[0m\u001b[1;34m\"PC 1\"\u001b[0m\u001b[1;33m,\u001b[0m\u001b[1;33m\u001b[0m\u001b[1;33m\u001b[0m\u001b[0m\n\u001b[0;32m      5\u001b[0m     \u001b[0my\u001b[0m\u001b[1;33m=\u001b[0m\u001b[1;34m\"PC 2\"\u001b[0m\u001b[1;33m,\u001b[0m\u001b[1;33m\u001b[0m\u001b[1;33m\u001b[0m\u001b[0m\n",
      "\u001b[1;32m~\\Anaconda3\\lib\\site-packages\\plotly\\express\\_chart_types.py\u001b[0m in \u001b[0;36mscatter_3d\u001b[1;34m(data_frame, x, y, z, color, symbol, size, text, hover_name, hover_data, custom_data, error_x, error_x_minus, error_y, error_y_minus, error_z, error_z_minus, animation_frame, animation_group, category_orders, labels, size_max, color_discrete_sequence, color_discrete_map, color_continuous_scale, range_color, color_continuous_midpoint, symbol_sequence, symbol_map, opacity, log_x, log_y, log_z, range_x, range_y, range_z, title, template, width, height)\u001b[0m\n\u001b[0;32m    672\u001b[0m     \u001b[0msymbol\u001b[0m \u001b[0mmark\u001b[0m \u001b[1;32min\u001b[0m \u001b[1;36m3\u001b[0m\u001b[0mD\u001b[0m \u001b[0mspace\u001b[0m\u001b[1;33m.\u001b[0m\u001b[1;33m\u001b[0m\u001b[1;33m\u001b[0m\u001b[0m\n\u001b[0;32m    673\u001b[0m     \"\"\"\n\u001b[1;32m--> 674\u001b[1;33m     \u001b[1;32mreturn\u001b[0m \u001b[0mmake_figure\u001b[0m\u001b[1;33m(\u001b[0m\u001b[0margs\u001b[0m\u001b[1;33m=\u001b[0m\u001b[0mlocals\u001b[0m\u001b[1;33m(\u001b[0m\u001b[1;33m)\u001b[0m\u001b[1;33m,\u001b[0m \u001b[0mconstructor\u001b[0m\u001b[1;33m=\u001b[0m\u001b[0mgo\u001b[0m\u001b[1;33m.\u001b[0m\u001b[0mScatter3d\u001b[0m\u001b[1;33m)\u001b[0m\u001b[1;33m\u001b[0m\u001b[1;33m\u001b[0m\u001b[0m\n\u001b[0m\u001b[0;32m    675\u001b[0m \u001b[1;33m\u001b[0m\u001b[0m\n\u001b[0;32m    676\u001b[0m \u001b[1;33m\u001b[0m\u001b[0m\n",
      "\u001b[1;32m~\\Anaconda3\\lib\\site-packages\\plotly\\express\\_core.py\u001b[0m in \u001b[0;36mmake_figure\u001b[1;34m(args, constructor, trace_patch, layout_patch)\u001b[0m\n\u001b[0;32m   1835\u001b[0m     \u001b[0mgrouped\u001b[0m \u001b[1;33m=\u001b[0m \u001b[0margs\u001b[0m\u001b[1;33m[\u001b[0m\u001b[1;34m\"data_frame\"\u001b[0m\u001b[1;33m]\u001b[0m\u001b[1;33m.\u001b[0m\u001b[0mgroupby\u001b[0m\u001b[1;33m(\u001b[0m\u001b[0mgrouper\u001b[0m\u001b[1;33m,\u001b[0m \u001b[0msort\u001b[0m\u001b[1;33m=\u001b[0m\u001b[1;32mFalse\u001b[0m\u001b[1;33m)\u001b[0m\u001b[1;33m\u001b[0m\u001b[1;33m\u001b[0m\u001b[0m\n\u001b[0;32m   1836\u001b[0m \u001b[1;33m\u001b[0m\u001b[0m\n\u001b[1;32m-> 1837\u001b[1;33m     orders, sorted_group_names, sorted_group_values = get_orderings(\n\u001b[0m\u001b[0;32m   1838\u001b[0m         \u001b[0margs\u001b[0m\u001b[1;33m,\u001b[0m \u001b[0mgrouper\u001b[0m\u001b[1;33m,\u001b[0m \u001b[0mgrouped\u001b[0m\u001b[1;33m\u001b[0m\u001b[1;33m\u001b[0m\u001b[0m\n\u001b[0;32m   1839\u001b[0m     )\n",
      "\u001b[1;32m~\\Anaconda3\\lib\\site-packages\\plotly\\express\\_core.py\u001b[0m in \u001b[0;36mget_orderings\u001b[1;34m(args, grouper, grouped)\u001b[0m\n\u001b[0;32m   1805\u001b[0m                         \u001b[1;32mif\u001b[0m \u001b[0mval\u001b[0m \u001b[1;32mnot\u001b[0m \u001b[1;32min\u001b[0m \u001b[0morders\u001b[0m\u001b[1;33m[\u001b[0m\u001b[0mcol\u001b[0m\u001b[1;33m]\u001b[0m\u001b[1;33m:\u001b[0m\u001b[1;33m\u001b[0m\u001b[1;33m\u001b[0m\u001b[0m\n\u001b[0;32m   1806\u001b[0m                             \u001b[0morders\u001b[0m\u001b[1;33m[\u001b[0m\u001b[0mcol\u001b[0m\u001b[1;33m]\u001b[0m\u001b[1;33m.\u001b[0m\u001b[0mappend\u001b[0m\u001b[1;33m(\u001b[0m\u001b[0mval\u001b[0m\u001b[1;33m)\u001b[0m\u001b[1;33m\u001b[0m\u001b[1;33m\u001b[0m\u001b[0m\n\u001b[1;32m-> 1807\u001b[1;33m                 \u001b[0mgroup_values\u001b[0m\u001b[1;33m[\u001b[0m\u001b[0mcol\u001b[0m\u001b[1;33m]\u001b[0m \u001b[1;33m=\u001b[0m \u001b[0msorted\u001b[0m\u001b[1;33m(\u001b[0m\u001b[0muniques\u001b[0m\u001b[1;33m,\u001b[0m \u001b[0mkey\u001b[0m\u001b[1;33m=\u001b[0m\u001b[0morders\u001b[0m\u001b[1;33m[\u001b[0m\u001b[0mcol\u001b[0m\u001b[1;33m]\u001b[0m\u001b[1;33m.\u001b[0m\u001b[0mindex\u001b[0m\u001b[1;33m)\u001b[0m\u001b[1;33m\u001b[0m\u001b[1;33m\u001b[0m\u001b[0m\n\u001b[0m\u001b[0;32m   1808\u001b[0m \u001b[1;33m\u001b[0m\u001b[0m\n\u001b[0;32m   1809\u001b[0m     \u001b[1;32mfor\u001b[0m \u001b[0mi\u001b[0m\u001b[1;33m,\u001b[0m \u001b[0mcol\u001b[0m \u001b[1;32min\u001b[0m \u001b[0mreversed\u001b[0m\u001b[1;33m(\u001b[0m\u001b[0mlist\u001b[0m\u001b[1;33m(\u001b[0m\u001b[0menumerate\u001b[0m\u001b[1;33m(\u001b[0m\u001b[0mgrouper\u001b[0m\u001b[1;33m)\u001b[0m\u001b[1;33m)\u001b[0m\u001b[1;33m)\u001b[0m\u001b[1;33m:\u001b[0m\u001b[1;33m\u001b[0m\u001b[1;33m\u001b[0m\u001b[0m\n",
      "\u001b[1;31mValueError\u001b[0m: nan is not in list"
     ]
    }
   ],
   "source": [
    "# Create a 3D-Scatter with the PCA data and the clusters\n",
    "fig = px.scatter_3d(\n",
    "    clustered_df,\n",
    "    x=\"PC 1\",\n",
    "    y=\"PC 2\",\n",
    "    z=\"PC 3\",\n",
    "    color=\"Class\",\n",
    "    symbol=\"Class\",\n",
    "    width=700,\n",
    ")\n",
    "fig.update_layout(legend=dict(x=0, y=1))\n",
    "fig.show()"
   ]
  },
  {
   "cell_type": "markdown",
   "metadata": {},
   "source": [
    "#### Table of Tradable Cryptocurrencies"
   ]
  },
  {
   "cell_type": "code",
   "execution_count": 92,
   "metadata": {},
   "outputs": [
    {
     "output_type": "execute_result",
     "data": {
      "text/plain": [
       "            CoinName  TotalCoinsMined TotalCoinSupply\n",
       "1247     BitcoinPlus     1.283270e+05         1000000\n",
       "1248      DivotyCoin     2.149121e+07       100000000\n",
       "1249     Giotto Coin              NaN       233100000\n",
       "1250  OpenSourceCoin              NaN        21000000\n",
       "1251       SteamPunk              NaN        40000000"
      ],
      "text/html": "<div>\n<style scoped>\n    .dataframe tbody tr th:only-of-type {\n        vertical-align: middle;\n    }\n\n    .dataframe tbody tr th {\n        vertical-align: top;\n    }\n\n    .dataframe thead th {\n        text-align: right;\n    }\n</style>\n<table border=\"1\" class=\"dataframe\">\n  <thead>\n    <tr style=\"text-align: right;\">\n      <th></th>\n      <th>CoinName</th>\n      <th>TotalCoinsMined</th>\n      <th>TotalCoinSupply</th>\n    </tr>\n  </thead>\n  <tbody>\n    <tr>\n      <th>1247</th>\n      <td>BitcoinPlus</td>\n      <td>1.283270e+05</td>\n      <td>1000000</td>\n    </tr>\n    <tr>\n      <th>1248</th>\n      <td>DivotyCoin</td>\n      <td>2.149121e+07</td>\n      <td>100000000</td>\n    </tr>\n    <tr>\n      <th>1249</th>\n      <td>Giotto Coin</td>\n      <td>NaN</td>\n      <td>233100000</td>\n    </tr>\n    <tr>\n      <th>1250</th>\n      <td>OpenSourceCoin</td>\n      <td>NaN</td>\n      <td>21000000</td>\n    </tr>\n    <tr>\n      <th>1251</th>\n      <td>SteamPunk</td>\n      <td>NaN</td>\n      <td>40000000</td>\n    </tr>\n  </tbody>\n</table>\n</div>"
     },
     "metadata": {},
     "execution_count": 92
    }
   ],
   "source": [
    "# Table with tradable cryptos\n",
    "df_cn = pd.DataFrame(file_path, columns = [\"CoinName\", \"TotalCoinsMined\", \"TotalCoinSupply\"]) \n",
    "df_cn.tail()"
   ]
  },
  {
   "cell_type": "code",
   "execution_count": 93,
   "metadata": {},
   "outputs": [
    {
     "output_type": "execute_result",
     "data": {
      "text/plain": [
       "         CoinName  TotalCoinsMined TotalCoinSupply\n",
       "0         42 Coin     4.199995e+01              42\n",
       "2         404Coin     1.055185e+09       532000000\n",
       "4             808     0.000000e+00               0\n",
       "5       EliteCoin     2.927942e+10    314159265359\n",
       "7         Bitcoin     1.792718e+07        21000000\n",
       "...           ...              ...             ...\n",
       "1242      Gapcoin     1.493105e+07       250000000\n",
       "1245       Beldex     9.802226e+08      1400222610\n",
       "1246      Horizen     7.296538e+06        21000000\n",
       "1247  BitcoinPlus     1.283270e+05         1000000\n",
       "1248   DivotyCoin     2.149121e+07       100000000\n",
       "\n",
       "[744 rows x 3 columns]"
      ],
      "text/html": "<div>\n<style scoped>\n    .dataframe tbody tr th:only-of-type {\n        vertical-align: middle;\n    }\n\n    .dataframe tbody tr th {\n        vertical-align: top;\n    }\n\n    .dataframe thead th {\n        text-align: right;\n    }\n</style>\n<table border=\"1\" class=\"dataframe\">\n  <thead>\n    <tr style=\"text-align: right;\">\n      <th></th>\n      <th>CoinName</th>\n      <th>TotalCoinsMined</th>\n      <th>TotalCoinSupply</th>\n    </tr>\n  </thead>\n  <tbody>\n    <tr>\n      <th>0</th>\n      <td>42 Coin</td>\n      <td>4.199995e+01</td>\n      <td>42</td>\n    </tr>\n    <tr>\n      <th>2</th>\n      <td>404Coin</td>\n      <td>1.055185e+09</td>\n      <td>532000000</td>\n    </tr>\n    <tr>\n      <th>4</th>\n      <td>808</td>\n      <td>0.000000e+00</td>\n      <td>0</td>\n    </tr>\n    <tr>\n      <th>5</th>\n      <td>EliteCoin</td>\n      <td>2.927942e+10</td>\n      <td>314159265359</td>\n    </tr>\n    <tr>\n      <th>7</th>\n      <td>Bitcoin</td>\n      <td>1.792718e+07</td>\n      <td>21000000</td>\n    </tr>\n    <tr>\n      <th>...</th>\n      <td>...</td>\n      <td>...</td>\n      <td>...</td>\n    </tr>\n    <tr>\n      <th>1242</th>\n      <td>Gapcoin</td>\n      <td>1.493105e+07</td>\n      <td>250000000</td>\n    </tr>\n    <tr>\n      <th>1245</th>\n      <td>Beldex</td>\n      <td>9.802226e+08</td>\n      <td>1400222610</td>\n    </tr>\n    <tr>\n      <th>1246</th>\n      <td>Horizen</td>\n      <td>7.296538e+06</td>\n      <td>21000000</td>\n    </tr>\n    <tr>\n      <th>1247</th>\n      <td>BitcoinPlus</td>\n      <td>1.283270e+05</td>\n      <td>1000000</td>\n    </tr>\n    <tr>\n      <th>1248</th>\n      <td>DivotyCoin</td>\n      <td>2.149121e+07</td>\n      <td>100000000</td>\n    </tr>\n  </tbody>\n</table>\n<p>744 rows × 3 columns</p>\n</div>"
     },
     "metadata": {},
     "execution_count": 93
    }
   ],
   "source": [
    "# Print the total number of tradable cryptocurrencies\n",
    "df_cn.dropna()"
   ]
  },
  {
   "cell_type": "code",
   "execution_count": 94,
   "metadata": {},
   "outputs": [
    {
     "output_type": "execute_result",
     "data": {
      "text/plain": [
       "            CoinName  Algorithm ProofType  TotalCoinsMined TotalCoinSupply\n",
       "0            42 Coin     Scrypt   PoW/PoS     4.199995e+01              42\n",
       "2            404Coin     Scrypt   PoW/PoS     1.055185e+09       532000000\n",
       "5          EliteCoin        X13   PoW/PoS     2.927942e+10    314159265359\n",
       "10              Dash        X11   PoW/PoS     9.031294e+06        22000000\n",
       "16       BitcoinDark    SHA-256   PoW/PoS     1.288862e+06        22000000\n",
       "...              ...        ...       ...              ...             ...\n",
       "1193          OKCash    SHA-256   PoW/PoS     7.467606e+07       105000000\n",
       "1196       WhiteCoin     Scrypt   PoW/PoS     2.520056e+08       300000000\n",
       "1198  FriendshipCoin  NeoScrypt   PoW/PoS     1.120385e+06        60168145\n",
       "1202  Triangles Coin        X13   PoW/PoS     1.407778e+05          120000\n",
       "1242         Gapcoin     Scrypt   PoW/PoS     1.493105e+07       250000000\n",
       "\n",
       "[176 rows x 5 columns]"
      ],
      "text/html": "<div>\n<style scoped>\n    .dataframe tbody tr th:only-of-type {\n        vertical-align: middle;\n    }\n\n    .dataframe tbody tr th {\n        vertical-align: top;\n    }\n\n    .dataframe thead th {\n        text-align: right;\n    }\n</style>\n<table border=\"1\" class=\"dataframe\">\n  <thead>\n    <tr style=\"text-align: right;\">\n      <th></th>\n      <th>CoinName</th>\n      <th>Algorithm</th>\n      <th>ProofType</th>\n      <th>TotalCoinsMined</th>\n      <th>TotalCoinSupply</th>\n    </tr>\n  </thead>\n  <tbody>\n    <tr>\n      <th>0</th>\n      <td>42 Coin</td>\n      <td>Scrypt</td>\n      <td>PoW/PoS</td>\n      <td>4.199995e+01</td>\n      <td>42</td>\n    </tr>\n    <tr>\n      <th>2</th>\n      <td>404Coin</td>\n      <td>Scrypt</td>\n      <td>PoW/PoS</td>\n      <td>1.055185e+09</td>\n      <td>532000000</td>\n    </tr>\n    <tr>\n      <th>5</th>\n      <td>EliteCoin</td>\n      <td>X13</td>\n      <td>PoW/PoS</td>\n      <td>2.927942e+10</td>\n      <td>314159265359</td>\n    </tr>\n    <tr>\n      <th>10</th>\n      <td>Dash</td>\n      <td>X11</td>\n      <td>PoW/PoS</td>\n      <td>9.031294e+06</td>\n      <td>22000000</td>\n    </tr>\n    <tr>\n      <th>16</th>\n      <td>BitcoinDark</td>\n      <td>SHA-256</td>\n      <td>PoW/PoS</td>\n      <td>1.288862e+06</td>\n      <td>22000000</td>\n    </tr>\n    <tr>\n      <th>...</th>\n      <td>...</td>\n      <td>...</td>\n      <td>...</td>\n      <td>...</td>\n      <td>...</td>\n    </tr>\n    <tr>\n      <th>1193</th>\n      <td>OKCash</td>\n      <td>SHA-256</td>\n      <td>PoW/PoS</td>\n      <td>7.467606e+07</td>\n      <td>105000000</td>\n    </tr>\n    <tr>\n      <th>1196</th>\n      <td>WhiteCoin</td>\n      <td>Scrypt</td>\n      <td>PoW/PoS</td>\n      <td>2.520056e+08</td>\n      <td>300000000</td>\n    </tr>\n    <tr>\n      <th>1198</th>\n      <td>FriendshipCoin</td>\n      <td>NeoScrypt</td>\n      <td>PoW/PoS</td>\n      <td>1.120385e+06</td>\n      <td>60168145</td>\n    </tr>\n    <tr>\n      <th>1202</th>\n      <td>Triangles Coin</td>\n      <td>X13</td>\n      <td>PoW/PoS</td>\n      <td>1.407778e+05</td>\n      <td>120000</td>\n    </tr>\n    <tr>\n      <th>1242</th>\n      <td>Gapcoin</td>\n      <td>Scrypt</td>\n      <td>PoW/PoS</td>\n      <td>1.493105e+07</td>\n      <td>250000000</td>\n    </tr>\n  </tbody>\n</table>\n<p>176 rows × 5 columns</p>\n</div>"
     },
     "metadata": {},
     "execution_count": 94
    }
   ],
   "source": [
    "df_cn = df_notnull.loc [df_notnull[\"TotalCoinsMined\"] > 0]\n",
    "df_cn.dropna()"
   ]
  },
  {
   "cell_type": "markdown",
   "metadata": {},
   "source": [
    "#### Scatter Plot with Tradable Cryptocurrencies"
   ]
  },
  {
   "cell_type": "code",
   "execution_count": 114,
   "metadata": {},
   "outputs": [],
   "source": [
    "# Scale data to create the scatter plot\n",
    "#df_cn_scaled = scaler.fit_transform(df_cn[[\"TotalCoinsMined\",\"TotalCoinSupply\"]])"
   ]
  },
  {
   "cell_type": "code",
   "execution_count": 117,
   "metadata": {},
   "outputs": [],
   "source": [
    "# Plot the scatter with x=\"TotalCoinsMined\" and y=\"TotalCoinSupply\"\n"
   ]
  },
  {
   "cell_type": "code",
   "execution_count": null,
   "metadata": {},
   "outputs": [],
   "source": []
  }
 ],
 "metadata": {
  "file_extension": ".py",
  "kernelspec": {
   "display_name": "Python 3",
   "language": "python",
   "name": "python3"
  },
  "language_info": {
   "codemirror_mode": {
    "name": "ipython",
    "version": 3
   },
   "file_extension": ".py",
   "mimetype": "text/x-python",
   "name": "python",
   "nbconvert_exporter": "python",
   "pygments_lexer": "ipython3",
   "version": "3.8.3-final"
  },
  "mimetype": "text/x-python",
  "name": "python",
  "npconvert_exporter": "python",
  "pygments_lexer": "ipython3",
  "version": 3
 },
 "nbformat": 4,
 "nbformat_minor": 4
}