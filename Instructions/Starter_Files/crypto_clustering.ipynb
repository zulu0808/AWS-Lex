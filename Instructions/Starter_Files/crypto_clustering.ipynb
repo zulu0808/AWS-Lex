{
 "cells": [
  {
   "cell_type": "markdown",
   "metadata": {},
   "source": [
    "# Clustering Crypto"
   ]
  },
  {
   "cell_type": "code",
   "execution_count": 68,
   "metadata": {},
   "outputs": [],
   "source": [
    "# Initial imports\n",
    "import requests\n",
    "import pandas as pd\n",
    "import numpy as np\n",
    "import matplotlib.pyplot as plt\n",
    "import hvplot.pandas\n",
    "import plotly.express as px\n",
    "from sklearn.preprocessing import StandardScaler, MinMaxScaler\n",
    "scaler =StandardScaler ()\n",
    "mm = MinMaxScaler\n",
    "from sklearn.decomposition import PCA\n",
    "from sklearn.cluster import KMeans"
   ]
  },
  {
   "cell_type": "markdown",
   "metadata": {},
   "source": [
    "### Fetching Cryptocurrency Data"
   ]
  },
  {
   "cell_type": "code",
   "execution_count": 69,
   "metadata": {},
   "outputs": [],
   "source": [
    "# Use the following endpoint to fetch json data\n",
    "url = \"https://min-api.cryptocompare.com/data/all/coinlist\""
   ]
  },
  {
   "cell_type": "code",
   "execution_count": 70,
   "metadata": {},
   "outputs": [],
   "source": [
    "# Create a DataFrame \n",
    "# HINT: You will need to use the 'Data' key from the json response, then transpose the DataFrame."
   ]
  },
  {
   "cell_type": "code",
   "execution_count": 71,
   "metadata": {},
   "outputs": [
    {
     "output_type": "execute_result",
     "data": {
      "text/plain": [
       "     Unnamed: 0        CoinName Algorithm  IsTrading ProofType  \\\n",
       "1247        XBC     BitcoinPlus    Scrypt       True       PoS   \n",
       "1248       DVTC      DivotyCoin    Scrypt      False   PoW/PoS   \n",
       "1249       GIOT     Giotto Coin    Scrypt      False   PoW/PoS   \n",
       "1250       OPSC  OpenSourceCoin   SHA-256      False   PoW/PoS   \n",
       "1251       PUNK       SteamPunk       PoS      False       PoS   \n",
       "\n",
       "      TotalCoinsMined TotalCoinSupply  \n",
       "1247     1.283270e+05         1000000  \n",
       "1248     2.149121e+07       100000000  \n",
       "1249              NaN       233100000  \n",
       "1250              NaN        21000000  \n",
       "1251              NaN        40000000  "
      ],
      "text/html": "<div>\n<style scoped>\n    .dataframe tbody tr th:only-of-type {\n        vertical-align: middle;\n    }\n\n    .dataframe tbody tr th {\n        vertical-align: top;\n    }\n\n    .dataframe thead th {\n        text-align: right;\n    }\n</style>\n<table border=\"1\" class=\"dataframe\">\n  <thead>\n    <tr style=\"text-align: right;\">\n      <th></th>\n      <th>Unnamed: 0</th>\n      <th>CoinName</th>\n      <th>Algorithm</th>\n      <th>IsTrading</th>\n      <th>ProofType</th>\n      <th>TotalCoinsMined</th>\n      <th>TotalCoinSupply</th>\n    </tr>\n  </thead>\n  <tbody>\n    <tr>\n      <th>1247</th>\n      <td>XBC</td>\n      <td>BitcoinPlus</td>\n      <td>Scrypt</td>\n      <td>True</td>\n      <td>PoS</td>\n      <td>1.283270e+05</td>\n      <td>1000000</td>\n    </tr>\n    <tr>\n      <th>1248</th>\n      <td>DVTC</td>\n      <td>DivotyCoin</td>\n      <td>Scrypt</td>\n      <td>False</td>\n      <td>PoW/PoS</td>\n      <td>2.149121e+07</td>\n      <td>100000000</td>\n    </tr>\n    <tr>\n      <th>1249</th>\n      <td>GIOT</td>\n      <td>Giotto Coin</td>\n      <td>Scrypt</td>\n      <td>False</td>\n      <td>PoW/PoS</td>\n      <td>NaN</td>\n      <td>233100000</td>\n    </tr>\n    <tr>\n      <th>1250</th>\n      <td>OPSC</td>\n      <td>OpenSourceCoin</td>\n      <td>SHA-256</td>\n      <td>False</td>\n      <td>PoW/PoS</td>\n      <td>NaN</td>\n      <td>21000000</td>\n    </tr>\n    <tr>\n      <th>1251</th>\n      <td>PUNK</td>\n      <td>SteamPunk</td>\n      <td>PoS</td>\n      <td>False</td>\n      <td>PoS</td>\n      <td>NaN</td>\n      <td>40000000</td>\n    </tr>\n  </tbody>\n</table>\n</div>"
     },
     "metadata": {},
     "execution_count": 71
    }
   ],
   "source": [
    "# Alternatively, use the provided csv file:\n",
    "file_path = pd.read_csv (\"C:/Users/pvolc/rice_fintech/AWS-Lex/Instructions/Starter_Files/Resources/crypto_data.csv\")\n",
    "\n",
    "# Create a DataFrame\n",
    "crypto_df = pd.DataFrame(file_path, index=None) \n",
    "crypto_df.tail()"
   ]
  },
  {
   "cell_type": "markdown",
   "metadata": {},
   "source": [
    "### Data Preprocessing"
   ]
  },
  {
   "cell_type": "code",
   "execution_count": 72,
   "metadata": {},
   "outputs": [
    {
     "output_type": "execute_result",
     "data": {
      "text/plain": [
       "            CoinName Algorithm  IsTrading ProofType  TotalCoinsMined  \\\n",
       "1247     BitcoinPlus    Scrypt       True       PoS     1.283270e+05   \n",
       "1248      DivotyCoin    Scrypt      False   PoW/PoS     2.149121e+07   \n",
       "1249     Giotto Coin    Scrypt      False   PoW/PoS              NaN   \n",
       "1250  OpenSourceCoin   SHA-256      False   PoW/PoS              NaN   \n",
       "1251       SteamPunk       PoS      False       PoS              NaN   \n",
       "\n",
       "     TotalCoinSupply  \n",
       "1247         1000000  \n",
       "1248       100000000  \n",
       "1249       233100000  \n",
       "1250        21000000  \n",
       "1251        40000000  "
      ],
      "text/html": "<div>\n<style scoped>\n    .dataframe tbody tr th:only-of-type {\n        vertical-align: middle;\n    }\n\n    .dataframe tbody tr th {\n        vertical-align: top;\n    }\n\n    .dataframe thead th {\n        text-align: right;\n    }\n</style>\n<table border=\"1\" class=\"dataframe\">\n  <thead>\n    <tr style=\"text-align: right;\">\n      <th></th>\n      <th>CoinName</th>\n      <th>Algorithm</th>\n      <th>IsTrading</th>\n      <th>ProofType</th>\n      <th>TotalCoinsMined</th>\n      <th>TotalCoinSupply</th>\n    </tr>\n  </thead>\n  <tbody>\n    <tr>\n      <th>1247</th>\n      <td>BitcoinPlus</td>\n      <td>Scrypt</td>\n      <td>True</td>\n      <td>PoS</td>\n      <td>1.283270e+05</td>\n      <td>1000000</td>\n    </tr>\n    <tr>\n      <th>1248</th>\n      <td>DivotyCoin</td>\n      <td>Scrypt</td>\n      <td>False</td>\n      <td>PoW/PoS</td>\n      <td>2.149121e+07</td>\n      <td>100000000</td>\n    </tr>\n    <tr>\n      <th>1249</th>\n      <td>Giotto Coin</td>\n      <td>Scrypt</td>\n      <td>False</td>\n      <td>PoW/PoS</td>\n      <td>NaN</td>\n      <td>233100000</td>\n    </tr>\n    <tr>\n      <th>1250</th>\n      <td>OpenSourceCoin</td>\n      <td>SHA-256</td>\n      <td>False</td>\n      <td>PoW/PoS</td>\n      <td>NaN</td>\n      <td>21000000</td>\n    </tr>\n    <tr>\n      <th>1251</th>\n      <td>SteamPunk</td>\n      <td>PoS</td>\n      <td>False</td>\n      <td>PoS</td>\n      <td>NaN</td>\n      <td>40000000</td>\n    </tr>\n  </tbody>\n</table>\n</div>"
     },
     "metadata": {},
     "execution_count": 72
    }
   ],
   "source": [
    "# Keep only necessary columns:\n",
    "# 'CoinName','Algorithm','IsTrading','ProofType','TotalCoinsMined','TotalCoinSupply'\n",
    "crypto_col = pd.DataFrame (crypto_df,columns = ['CoinName','Algorithm','IsTrading','ProofType','TotalCoinsMined','TotalCoinSupply'])\n",
    "crypto_col.tail()"
   ]
  },
  {
   "cell_type": "code",
   "execution_count": 73,
   "metadata": {},
   "outputs": [
    {
     "output_type": "execute_result",
     "data": {
      "text/plain": [
       "    CoinName Algorithm  IsTrading ProofType  TotalCoinsMined TotalCoinSupply\n",
       "0    42 Coin    Scrypt       True   PoW/PoS     4.199995e+01              42\n",
       "1    365Coin       X11       True   PoW/PoS              NaN      2300000000\n",
       "2    404Coin    Scrypt       True   PoW/PoS     1.055185e+09       532000000\n",
       "3  SixEleven   SHA-256       True       PoW              NaN          611000\n",
       "4        808   SHA-256       True   PoW/PoS     0.000000e+00               0"
      ],
      "text/html": "<div>\n<style scoped>\n    .dataframe tbody tr th:only-of-type {\n        vertical-align: middle;\n    }\n\n    .dataframe tbody tr th {\n        vertical-align: top;\n    }\n\n    .dataframe thead th {\n        text-align: right;\n    }\n</style>\n<table border=\"1\" class=\"dataframe\">\n  <thead>\n    <tr style=\"text-align: right;\">\n      <th></th>\n      <th>CoinName</th>\n      <th>Algorithm</th>\n      <th>IsTrading</th>\n      <th>ProofType</th>\n      <th>TotalCoinsMined</th>\n      <th>TotalCoinSupply</th>\n    </tr>\n  </thead>\n  <tbody>\n    <tr>\n      <th>0</th>\n      <td>42 Coin</td>\n      <td>Scrypt</td>\n      <td>True</td>\n      <td>PoW/PoS</td>\n      <td>4.199995e+01</td>\n      <td>42</td>\n    </tr>\n    <tr>\n      <th>1</th>\n      <td>365Coin</td>\n      <td>X11</td>\n      <td>True</td>\n      <td>PoW/PoS</td>\n      <td>NaN</td>\n      <td>2300000000</td>\n    </tr>\n    <tr>\n      <th>2</th>\n      <td>404Coin</td>\n      <td>Scrypt</td>\n      <td>True</td>\n      <td>PoW/PoS</td>\n      <td>1.055185e+09</td>\n      <td>532000000</td>\n    </tr>\n    <tr>\n      <th>3</th>\n      <td>SixEleven</td>\n      <td>SHA-256</td>\n      <td>True</td>\n      <td>PoW</td>\n      <td>NaN</td>\n      <td>611000</td>\n    </tr>\n    <tr>\n      <th>4</th>\n      <td>808</td>\n      <td>SHA-256</td>\n      <td>True</td>\n      <td>PoW/PoS</td>\n      <td>0.000000e+00</td>\n      <td>0</td>\n    </tr>\n  </tbody>\n</table>\n</div>"
     },
     "metadata": {},
     "execution_count": 73
    }
   ],
   "source": [
    "# Keep only cryptocurrencies that are trading\n",
    "crypto_col.iloc[:, -1]\n",
    "df = crypto_col.loc [crypto_col[\"IsTrading\"] ==True]\n",
    "df.head()"
   ]
  },
  {
   "cell_type": "code",
   "execution_count": 74,
   "metadata": {},
   "outputs": [
    {
     "output_type": "execute_result",
     "data": {
      "text/plain": [
       "    CoinName Algorithm  IsTrading ProofType  TotalCoinsMined TotalCoinSupply\n",
       "0    42 Coin    Scrypt       True   PoW/PoS     4.199995e+01              42\n",
       "1    365Coin       X11       True   PoW/PoS              NaN      2300000000\n",
       "2    404Coin    Scrypt       True   PoW/PoS     1.055185e+09       532000000\n",
       "4        808   SHA-256       True   PoW/PoS     0.000000e+00               0\n",
       "5  EliteCoin       X13       True   PoW/PoS     2.927942e+10    314159265359"
      ],
      "text/html": "<div>\n<style scoped>\n    .dataframe tbody tr th:only-of-type {\n        vertical-align: middle;\n    }\n\n    .dataframe tbody tr th {\n        vertical-align: top;\n    }\n\n    .dataframe thead th {\n        text-align: right;\n    }\n</style>\n<table border=\"1\" class=\"dataframe\">\n  <thead>\n    <tr style=\"text-align: right;\">\n      <th></th>\n      <th>CoinName</th>\n      <th>Algorithm</th>\n      <th>IsTrading</th>\n      <th>ProofType</th>\n      <th>TotalCoinsMined</th>\n      <th>TotalCoinSupply</th>\n    </tr>\n  </thead>\n  <tbody>\n    <tr>\n      <th>0</th>\n      <td>42 Coin</td>\n      <td>Scrypt</td>\n      <td>True</td>\n      <td>PoW/PoS</td>\n      <td>4.199995e+01</td>\n      <td>42</td>\n    </tr>\n    <tr>\n      <th>1</th>\n      <td>365Coin</td>\n      <td>X11</td>\n      <td>True</td>\n      <td>PoW/PoS</td>\n      <td>NaN</td>\n      <td>2300000000</td>\n    </tr>\n    <tr>\n      <th>2</th>\n      <td>404Coin</td>\n      <td>Scrypt</td>\n      <td>True</td>\n      <td>PoW/PoS</td>\n      <td>1.055185e+09</td>\n      <td>532000000</td>\n    </tr>\n    <tr>\n      <th>4</th>\n      <td>808</td>\n      <td>SHA-256</td>\n      <td>True</td>\n      <td>PoW/PoS</td>\n      <td>0.000000e+00</td>\n      <td>0</td>\n    </tr>\n    <tr>\n      <th>5</th>\n      <td>EliteCoin</td>\n      <td>X13</td>\n      <td>True</td>\n      <td>PoW/PoS</td>\n      <td>2.927942e+10</td>\n      <td>314159265359</td>\n    </tr>\n  </tbody>\n</table>\n</div>"
     },
     "metadata": {},
     "execution_count": 74
    }
   ],
   "source": [
    "# Keep only cryptocurrencies with a working algorithm\n",
    "df_pow = df.loc [df[\"ProofType\"] ==\"PoW/PoS\"]\n",
    "df_pow.head()"
   ]
  },
  {
   "cell_type": "code",
   "execution_count": 75,
   "metadata": {},
   "outputs": [
    {
     "output_type": "execute_result",
     "data": {
      "text/plain": [
       "    CoinName Algorithm ProofType  TotalCoinsMined TotalCoinSupply\n",
       "0    42 Coin    Scrypt   PoW/PoS     4.199995e+01              42\n",
       "1    365Coin       X11   PoW/PoS              NaN      2300000000\n",
       "2    404Coin    Scrypt   PoW/PoS     1.055185e+09       532000000\n",
       "4        808   SHA-256   PoW/PoS     0.000000e+00               0\n",
       "5  EliteCoin       X13   PoW/PoS     2.927942e+10    314159265359"
      ],
      "text/html": "<div>\n<style scoped>\n    .dataframe tbody tr th:only-of-type {\n        vertical-align: middle;\n    }\n\n    .dataframe tbody tr th {\n        vertical-align: top;\n    }\n\n    .dataframe thead th {\n        text-align: right;\n    }\n</style>\n<table border=\"1\" class=\"dataframe\">\n  <thead>\n    <tr style=\"text-align: right;\">\n      <th></th>\n      <th>CoinName</th>\n      <th>Algorithm</th>\n      <th>ProofType</th>\n      <th>TotalCoinsMined</th>\n      <th>TotalCoinSupply</th>\n    </tr>\n  </thead>\n  <tbody>\n    <tr>\n      <th>0</th>\n      <td>42 Coin</td>\n      <td>Scrypt</td>\n      <td>PoW/PoS</td>\n      <td>4.199995e+01</td>\n      <td>42</td>\n    </tr>\n    <tr>\n      <th>1</th>\n      <td>365Coin</td>\n      <td>X11</td>\n      <td>PoW/PoS</td>\n      <td>NaN</td>\n      <td>2300000000</td>\n    </tr>\n    <tr>\n      <th>2</th>\n      <td>404Coin</td>\n      <td>Scrypt</td>\n      <td>PoW/PoS</td>\n      <td>1.055185e+09</td>\n      <td>532000000</td>\n    </tr>\n    <tr>\n      <th>4</th>\n      <td>808</td>\n      <td>SHA-256</td>\n      <td>PoW/PoS</td>\n      <td>0.000000e+00</td>\n      <td>0</td>\n    </tr>\n    <tr>\n      <th>5</th>\n      <td>EliteCoin</td>\n      <td>X13</td>\n      <td>PoW/PoS</td>\n      <td>2.927942e+10</td>\n      <td>314159265359</td>\n    </tr>\n  </tbody>\n</table>\n</div>"
     },
     "metadata": {},
     "execution_count": 75
    }
   ],
   "source": [
    "# Remove the \"IsTrading\" column\n",
    "df_clean = df_pow.drop([\"IsTrading\"], axis = 1)\n",
    "df_clean.head()"
   ]
  },
  {
   "cell_type": "code",
   "execution_count": 76,
   "metadata": {},
   "outputs": [
    {
     "output_type": "stream",
     "name": "stdout",
     "text": [
      "Column CoinName has 0 null values\nColumn Algorithm has 0 null values\nColumn ProofType has 0 null values\nColumn TotalCoinsMined has 197 null values\nColumn TotalCoinSupply has 0 null values\n"
     ]
    }
   ],
   "source": [
    "# Find null values\n",
    "for column in df_clean.columns:\n",
    "    print(f\"Column {column} has {df_clean[column].isnull().sum()} null values\")"
   ]
  },
  {
   "cell_type": "code",
   "execution_count": 77,
   "metadata": {},
   "outputs": [
    {
     "output_type": "execute_result",
     "data": {
      "text/plain": [
       "     CoinName Algorithm ProofType  TotalCoinsMined TotalCoinSupply\n",
       "0     42 Coin    Scrypt   PoW/PoS     4.199995e+01              42\n",
       "2     404Coin    Scrypt   PoW/PoS     1.055185e+09       532000000\n",
       "4         808   SHA-256   PoW/PoS     0.000000e+00               0\n",
       "5   EliteCoin       X13   PoW/PoS     2.927942e+10    314159265359\n",
       "10       Dash       X11   PoW/PoS     9.031294e+06        22000000"
      ],
      "text/html": "<div>\n<style scoped>\n    .dataframe tbody tr th:only-of-type {\n        vertical-align: middle;\n    }\n\n    .dataframe tbody tr th {\n        vertical-align: top;\n    }\n\n    .dataframe thead th {\n        text-align: right;\n    }\n</style>\n<table border=\"1\" class=\"dataframe\">\n  <thead>\n    <tr style=\"text-align: right;\">\n      <th></th>\n      <th>CoinName</th>\n      <th>Algorithm</th>\n      <th>ProofType</th>\n      <th>TotalCoinsMined</th>\n      <th>TotalCoinSupply</th>\n    </tr>\n  </thead>\n  <tbody>\n    <tr>\n      <th>0</th>\n      <td>42 Coin</td>\n      <td>Scrypt</td>\n      <td>PoW/PoS</td>\n      <td>4.199995e+01</td>\n      <td>42</td>\n    </tr>\n    <tr>\n      <th>2</th>\n      <td>404Coin</td>\n      <td>Scrypt</td>\n      <td>PoW/PoS</td>\n      <td>1.055185e+09</td>\n      <td>532000000</td>\n    </tr>\n    <tr>\n      <th>4</th>\n      <td>808</td>\n      <td>SHA-256</td>\n      <td>PoW/PoS</td>\n      <td>0.000000e+00</td>\n      <td>0</td>\n    </tr>\n    <tr>\n      <th>5</th>\n      <td>EliteCoin</td>\n      <td>X13</td>\n      <td>PoW/PoS</td>\n      <td>2.927942e+10</td>\n      <td>314159265359</td>\n    </tr>\n    <tr>\n      <th>10</th>\n      <td>Dash</td>\n      <td>X11</td>\n      <td>PoW/PoS</td>\n      <td>9.031294e+06</td>\n      <td>22000000</td>\n    </tr>\n  </tbody>\n</table>\n</div>"
     },
     "metadata": {},
     "execution_count": 77
    }
   ],
   "source": [
    "# Remove rows with at least 1 null value\n",
    "df_notnull = df_clean.dropna()\n",
    "df_notnull.head()"
   ]
  },
  {
   "cell_type": "code",
   "execution_count": 78,
   "metadata": {},
   "outputs": [
    {
     "output_type": "execute_result",
     "data": {
      "text/plain": [
       "            CoinName  Algorithm ProofType  TotalCoinsMined TotalCoinSupply\n",
       "0            42 Coin     Scrypt   PoW/PoS     4.199995e+01              42\n",
       "2            404Coin     Scrypt   PoW/PoS     1.055185e+09       532000000\n",
       "5          EliteCoin        X13   PoW/PoS     2.927942e+10    314159265359\n",
       "10              Dash        X11   PoW/PoS     9.031294e+06        22000000\n",
       "16       BitcoinDark    SHA-256   PoW/PoS     1.288862e+06        22000000\n",
       "...              ...        ...       ...              ...             ...\n",
       "1193          OKCash    SHA-256   PoW/PoS     7.467606e+07       105000000\n",
       "1196       WhiteCoin     Scrypt   PoW/PoS     2.520056e+08       300000000\n",
       "1198  FriendshipCoin  NeoScrypt   PoW/PoS     1.120385e+06        60168145\n",
       "1202  Triangles Coin        X13   PoW/PoS     1.407778e+05          120000\n",
       "1242         Gapcoin     Scrypt   PoW/PoS     1.493105e+07       250000000\n",
       "\n",
       "[176 rows x 5 columns]"
      ],
      "text/html": "<div>\n<style scoped>\n    .dataframe tbody tr th:only-of-type {\n        vertical-align: middle;\n    }\n\n    .dataframe tbody tr th {\n        vertical-align: top;\n    }\n\n    .dataframe thead th {\n        text-align: right;\n    }\n</style>\n<table border=\"1\" class=\"dataframe\">\n  <thead>\n    <tr style=\"text-align: right;\">\n      <th></th>\n      <th>CoinName</th>\n      <th>Algorithm</th>\n      <th>ProofType</th>\n      <th>TotalCoinsMined</th>\n      <th>TotalCoinSupply</th>\n    </tr>\n  </thead>\n  <tbody>\n    <tr>\n      <th>0</th>\n      <td>42 Coin</td>\n      <td>Scrypt</td>\n      <td>PoW/PoS</td>\n      <td>4.199995e+01</td>\n      <td>42</td>\n    </tr>\n    <tr>\n      <th>2</th>\n      <td>404Coin</td>\n      <td>Scrypt</td>\n      <td>PoW/PoS</td>\n      <td>1.055185e+09</td>\n      <td>532000000</td>\n    </tr>\n    <tr>\n      <th>5</th>\n      <td>EliteCoin</td>\n      <td>X13</td>\n      <td>PoW/PoS</td>\n      <td>2.927942e+10</td>\n      <td>314159265359</td>\n    </tr>\n    <tr>\n      <th>10</th>\n      <td>Dash</td>\n      <td>X11</td>\n      <td>PoW/PoS</td>\n      <td>9.031294e+06</td>\n      <td>22000000</td>\n    </tr>\n    <tr>\n      <th>16</th>\n      <td>BitcoinDark</td>\n      <td>SHA-256</td>\n      <td>PoW/PoS</td>\n      <td>1.288862e+06</td>\n      <td>22000000</td>\n    </tr>\n    <tr>\n      <th>...</th>\n      <td>...</td>\n      <td>...</td>\n      <td>...</td>\n      <td>...</td>\n      <td>...</td>\n    </tr>\n    <tr>\n      <th>1193</th>\n      <td>OKCash</td>\n      <td>SHA-256</td>\n      <td>PoW/PoS</td>\n      <td>7.467606e+07</td>\n      <td>105000000</td>\n    </tr>\n    <tr>\n      <th>1196</th>\n      <td>WhiteCoin</td>\n      <td>Scrypt</td>\n      <td>PoW/PoS</td>\n      <td>2.520056e+08</td>\n      <td>300000000</td>\n    </tr>\n    <tr>\n      <th>1198</th>\n      <td>FriendshipCoin</td>\n      <td>NeoScrypt</td>\n      <td>PoW/PoS</td>\n      <td>1.120385e+06</td>\n      <td>60168145</td>\n    </tr>\n    <tr>\n      <th>1202</th>\n      <td>Triangles Coin</td>\n      <td>X13</td>\n      <td>PoW/PoS</td>\n      <td>1.407778e+05</td>\n      <td>120000</td>\n    </tr>\n    <tr>\n      <th>1242</th>\n      <td>Gapcoin</td>\n      <td>Scrypt</td>\n      <td>PoW/PoS</td>\n      <td>1.493105e+07</td>\n      <td>250000000</td>\n    </tr>\n  </tbody>\n</table>\n<p>176 rows × 5 columns</p>\n</div>"
     },
     "metadata": {},
     "execution_count": 78
    }
   ],
   "source": [
    "# Remove rows with cryptocurrencies having no coins mined\n",
    "df_mined = df_notnull.loc [df_notnull[\"TotalCoinsMined\"] > 0]\n",
    "df_mined.dropna()"
   ]
  },
  {
   "cell_type": "code",
   "execution_count": 79,
   "metadata": {},
   "outputs": [
    {
     "output_type": "execute_result",
     "data": {
      "text/plain": [
       "            CoinName  Algorithm ProofType  TotalCoinsMined TotalCoinSupply\n",
       "0            42 Coin     Scrypt   PoW/PoS     4.199995e+01              42\n",
       "2            404Coin     Scrypt   PoW/PoS     1.055185e+09       532000000\n",
       "5          EliteCoin        X13   PoW/PoS     2.927942e+10    314159265359\n",
       "10              Dash        X11   PoW/PoS     9.031294e+06        22000000\n",
       "16       BitcoinDark    SHA-256   PoW/PoS     1.288862e+06        22000000\n",
       "...              ...        ...       ...              ...             ...\n",
       "1193          OKCash    SHA-256   PoW/PoS     7.467606e+07       105000000\n",
       "1196       WhiteCoin     Scrypt   PoW/PoS     2.520056e+08       300000000\n",
       "1198  FriendshipCoin  NeoScrypt   PoW/PoS     1.120385e+06        60168145\n",
       "1202  Triangles Coin        X13   PoW/PoS     1.407778e+05          120000\n",
       "1242         Gapcoin     Scrypt   PoW/PoS     1.493105e+07       250000000\n",
       "\n",
       "[176 rows x 5 columns]"
      ],
      "text/html": "<div>\n<style scoped>\n    .dataframe tbody tr th:only-of-type {\n        vertical-align: middle;\n    }\n\n    .dataframe tbody tr th {\n        vertical-align: top;\n    }\n\n    .dataframe thead th {\n        text-align: right;\n    }\n</style>\n<table border=\"1\" class=\"dataframe\">\n  <thead>\n    <tr style=\"text-align: right;\">\n      <th></th>\n      <th>CoinName</th>\n      <th>Algorithm</th>\n      <th>ProofType</th>\n      <th>TotalCoinsMined</th>\n      <th>TotalCoinSupply</th>\n    </tr>\n  </thead>\n  <tbody>\n    <tr>\n      <th>0</th>\n      <td>42 Coin</td>\n      <td>Scrypt</td>\n      <td>PoW/PoS</td>\n      <td>4.199995e+01</td>\n      <td>42</td>\n    </tr>\n    <tr>\n      <th>2</th>\n      <td>404Coin</td>\n      <td>Scrypt</td>\n      <td>PoW/PoS</td>\n      <td>1.055185e+09</td>\n      <td>532000000</td>\n    </tr>\n    <tr>\n      <th>5</th>\n      <td>EliteCoin</td>\n      <td>X13</td>\n      <td>PoW/PoS</td>\n      <td>2.927942e+10</td>\n      <td>314159265359</td>\n    </tr>\n    <tr>\n      <th>10</th>\n      <td>Dash</td>\n      <td>X11</td>\n      <td>PoW/PoS</td>\n      <td>9.031294e+06</td>\n      <td>22000000</td>\n    </tr>\n    <tr>\n      <th>16</th>\n      <td>BitcoinDark</td>\n      <td>SHA-256</td>\n      <td>PoW/PoS</td>\n      <td>1.288862e+06</td>\n      <td>22000000</td>\n    </tr>\n    <tr>\n      <th>...</th>\n      <td>...</td>\n      <td>...</td>\n      <td>...</td>\n      <td>...</td>\n      <td>...</td>\n    </tr>\n    <tr>\n      <th>1193</th>\n      <td>OKCash</td>\n      <td>SHA-256</td>\n      <td>PoW/PoS</td>\n      <td>7.467606e+07</td>\n      <td>105000000</td>\n    </tr>\n    <tr>\n      <th>1196</th>\n      <td>WhiteCoin</td>\n      <td>Scrypt</td>\n      <td>PoW/PoS</td>\n      <td>2.520056e+08</td>\n      <td>300000000</td>\n    </tr>\n    <tr>\n      <th>1198</th>\n      <td>FriendshipCoin</td>\n      <td>NeoScrypt</td>\n      <td>PoW/PoS</td>\n      <td>1.120385e+06</td>\n      <td>60168145</td>\n    </tr>\n    <tr>\n      <th>1202</th>\n      <td>Triangles Coin</td>\n      <td>X13</td>\n      <td>PoW/PoS</td>\n      <td>1.407778e+05</td>\n      <td>120000</td>\n    </tr>\n    <tr>\n      <th>1242</th>\n      <td>Gapcoin</td>\n      <td>Scrypt</td>\n      <td>PoW/PoS</td>\n      <td>1.493105e+07</td>\n      <td>250000000</td>\n    </tr>\n  </tbody>\n</table>\n<p>176 rows × 5 columns</p>\n</div>"
     },
     "metadata": {},
     "execution_count": 79
    }
   ],
   "source": [
    "# Drop rows where there are 'N/A' text values\n",
    "df_mined.dropna()"
   ]
  },
  {
   "cell_type": "code",
   "execution_count": 80,
   "metadata": {},
   "outputs": [
    {
     "output_type": "execute_result",
     "data": {
      "text/plain": [
       "    CoinName\n",
       "0    42 Coin\n",
       "1    365Coin\n",
       "2    404Coin\n",
       "3  SixEleven\n",
       "4        808"
      ],
      "text/html": "<div>\n<style scoped>\n    .dataframe tbody tr th:only-of-type {\n        vertical-align: middle;\n    }\n\n    .dataframe tbody tr th {\n        vertical-align: top;\n    }\n\n    .dataframe thead th {\n        text-align: right;\n    }\n</style>\n<table border=\"1\" class=\"dataframe\">\n  <thead>\n    <tr style=\"text-align: right;\">\n      <th></th>\n      <th>CoinName</th>\n    </tr>\n  </thead>\n  <tbody>\n    <tr>\n      <th>0</th>\n      <td>42 Coin</td>\n    </tr>\n    <tr>\n      <th>1</th>\n      <td>365Coin</td>\n    </tr>\n    <tr>\n      <th>2</th>\n      <td>404Coin</td>\n    </tr>\n    <tr>\n      <th>3</th>\n      <td>SixEleven</td>\n    </tr>\n    <tr>\n      <th>4</th>\n      <td>808</td>\n    </tr>\n  </tbody>\n</table>\n</div>"
     },
     "metadata": {},
     "execution_count": 80
    }
   ],
   "source": [
    "# Store the 'CoinName'column in its own DataFrame prior to dropping it from crypto_df\n",
    "df_cn = pd.DataFrame(file_path, columns = [\"CoinName\"]) \n",
    "df_cn.head()"
   ]
  },
  {
   "cell_type": "code",
   "execution_count": 81,
   "metadata": {},
   "outputs": [
    {
     "output_type": "execute_result",
     "data": {
      "text/plain": [
       "   Algorithm ProofType  TotalCoinsMined TotalCoinSupply\n",
       "0     Scrypt   PoW/PoS     4.199995e+01              42\n",
       "2     Scrypt   PoW/PoS     1.055185e+09       532000000\n",
       "5        X13   PoW/PoS     2.927942e+10    314159265359\n",
       "10       X11   PoW/PoS     9.031294e+06        22000000\n",
       "16   SHA-256   PoW/PoS     1.288862e+06        22000000"
      ],
      "text/html": "<div>\n<style scoped>\n    .dataframe tbody tr th:only-of-type {\n        vertical-align: middle;\n    }\n\n    .dataframe tbody tr th {\n        vertical-align: top;\n    }\n\n    .dataframe thead th {\n        text-align: right;\n    }\n</style>\n<table border=\"1\" class=\"dataframe\">\n  <thead>\n    <tr style=\"text-align: right;\">\n      <th></th>\n      <th>Algorithm</th>\n      <th>ProofType</th>\n      <th>TotalCoinsMined</th>\n      <th>TotalCoinSupply</th>\n    </tr>\n  </thead>\n  <tbody>\n    <tr>\n      <th>0</th>\n      <td>Scrypt</td>\n      <td>PoW/PoS</td>\n      <td>4.199995e+01</td>\n      <td>42</td>\n    </tr>\n    <tr>\n      <th>2</th>\n      <td>Scrypt</td>\n      <td>PoW/PoS</td>\n      <td>1.055185e+09</td>\n      <td>532000000</td>\n    </tr>\n    <tr>\n      <th>5</th>\n      <td>X13</td>\n      <td>PoW/PoS</td>\n      <td>2.927942e+10</td>\n      <td>314159265359</td>\n    </tr>\n    <tr>\n      <th>10</th>\n      <td>X11</td>\n      <td>PoW/PoS</td>\n      <td>9.031294e+06</td>\n      <td>22000000</td>\n    </tr>\n    <tr>\n      <th>16</th>\n      <td>SHA-256</td>\n      <td>PoW/PoS</td>\n      <td>1.288862e+06</td>\n      <td>22000000</td>\n    </tr>\n  </tbody>\n</table>\n</div>"
     },
     "metadata": {},
     "execution_count": 81
    }
   ],
   "source": [
    "# Drop the 'CoinName' column since it's not going to be used on the clustering algorithm\n",
    "df_mined = df_mined.drop([\"CoinName\"], axis = 1)\n",
    "df_mined.head()"
   ]
  },
  {
   "cell_type": "code",
   "execution_count": 82,
   "metadata": {},
   "outputs": [
    {
     "output_type": "execute_result",
     "data": {
      "text/plain": [
       "    TotalCoinsMined TotalCoinSupply  Algorithm_536  Algorithm_BLAKE256  \\\n",
       "0      4.199995e+01              42              0                   0   \n",
       "2      1.055185e+09       532000000              0                   0   \n",
       "5      2.927942e+10    314159265359              0                   0   \n",
       "10     9.031294e+06        22000000              0                   0   \n",
       "16     1.288862e+06        22000000              0                   0   \n",
       "\n",
       "    Algorithm_Blake2S  Algorithm_C11  Algorithm_Groestl  Algorithm_Keccak  \\\n",
       "0                   0              0                  0                 0   \n",
       "2                   0              0                  0                 0   \n",
       "5                   0              0                  0                 0   \n",
       "10                  0              0                  0                 0   \n",
       "16                  0              0                  0                 0   \n",
       "\n",
       "    Algorithm_Lyra2REv2  Algorithm_NIST5  ...  Algorithm_SHA3  \\\n",
       "0                     0                0  ...               0   \n",
       "2                     0                0  ...               0   \n",
       "5                     0                0  ...               0   \n",
       "10                    0                0  ...               0   \n",
       "16                    0                0  ...               0   \n",
       "\n",
       "    Algorithm_Scrypt  Algorithm_Skein  Algorithm_X11  Algorithm_X13  \\\n",
       "0                  1                0              0              0   \n",
       "2                  1                0              0              0   \n",
       "5                  0                0              0              1   \n",
       "10                 0                0              1              0   \n",
       "16                 0                0              0              0   \n",
       "\n",
       "    Algorithm_X14  Algorithm_X15  Algorithm_X16R  Algorithm_XEVAN  \\\n",
       "0               0              0               0                0   \n",
       "2               0              0               0                0   \n",
       "5               0              0               0                0   \n",
       "10              0              0               0                0   \n",
       "16              0              0               0                0   \n",
       "\n",
       "    ProofType_PoW/PoS  \n",
       "0                   1  \n",
       "2                   1  \n",
       "5                   1  \n",
       "10                  1  \n",
       "16                  1  \n",
       "\n",
       "[5 rows x 27 columns]"
      ],
      "text/html": "<div>\n<style scoped>\n    .dataframe tbody tr th:only-of-type {\n        vertical-align: middle;\n    }\n\n    .dataframe tbody tr th {\n        vertical-align: top;\n    }\n\n    .dataframe thead th {\n        text-align: right;\n    }\n</style>\n<table border=\"1\" class=\"dataframe\">\n  <thead>\n    <tr style=\"text-align: right;\">\n      <th></th>\n      <th>TotalCoinsMined</th>\n      <th>TotalCoinSupply</th>\n      <th>Algorithm_536</th>\n      <th>Algorithm_BLAKE256</th>\n      <th>Algorithm_Blake2S</th>\n      <th>Algorithm_C11</th>\n      <th>Algorithm_Groestl</th>\n      <th>Algorithm_Keccak</th>\n      <th>Algorithm_Lyra2REv2</th>\n      <th>Algorithm_NIST5</th>\n      <th>...</th>\n      <th>Algorithm_SHA3</th>\n      <th>Algorithm_Scrypt</th>\n      <th>Algorithm_Skein</th>\n      <th>Algorithm_X11</th>\n      <th>Algorithm_X13</th>\n      <th>Algorithm_X14</th>\n      <th>Algorithm_X15</th>\n      <th>Algorithm_X16R</th>\n      <th>Algorithm_XEVAN</th>\n      <th>ProofType_PoW/PoS</th>\n    </tr>\n  </thead>\n  <tbody>\n    <tr>\n      <th>0</th>\n      <td>4.199995e+01</td>\n      <td>42</td>\n      <td>0</td>\n      <td>0</td>\n      <td>0</td>\n      <td>0</td>\n      <td>0</td>\n      <td>0</td>\n      <td>0</td>\n      <td>0</td>\n      <td>...</td>\n      <td>0</td>\n      <td>1</td>\n      <td>0</td>\n      <td>0</td>\n      <td>0</td>\n      <td>0</td>\n      <td>0</td>\n      <td>0</td>\n      <td>0</td>\n      <td>1</td>\n    </tr>\n    <tr>\n      <th>2</th>\n      <td>1.055185e+09</td>\n      <td>532000000</td>\n      <td>0</td>\n      <td>0</td>\n      <td>0</td>\n      <td>0</td>\n      <td>0</td>\n      <td>0</td>\n      <td>0</td>\n      <td>0</td>\n      <td>...</td>\n      <td>0</td>\n      <td>1</td>\n      <td>0</td>\n      <td>0</td>\n      <td>0</td>\n      <td>0</td>\n      <td>0</td>\n      <td>0</td>\n      <td>0</td>\n      <td>1</td>\n    </tr>\n    <tr>\n      <th>5</th>\n      <td>2.927942e+10</td>\n      <td>314159265359</td>\n      <td>0</td>\n      <td>0</td>\n      <td>0</td>\n      <td>0</td>\n      <td>0</td>\n      <td>0</td>\n      <td>0</td>\n      <td>0</td>\n      <td>...</td>\n      <td>0</td>\n      <td>0</td>\n      <td>0</td>\n      <td>0</td>\n      <td>1</td>\n      <td>0</td>\n      <td>0</td>\n      <td>0</td>\n      <td>0</td>\n      <td>1</td>\n    </tr>\n    <tr>\n      <th>10</th>\n      <td>9.031294e+06</td>\n      <td>22000000</td>\n      <td>0</td>\n      <td>0</td>\n      <td>0</td>\n      <td>0</td>\n      <td>0</td>\n      <td>0</td>\n      <td>0</td>\n      <td>0</td>\n      <td>...</td>\n      <td>0</td>\n      <td>0</td>\n      <td>0</td>\n      <td>1</td>\n      <td>0</td>\n      <td>0</td>\n      <td>0</td>\n      <td>0</td>\n      <td>0</td>\n      <td>1</td>\n    </tr>\n    <tr>\n      <th>16</th>\n      <td>1.288862e+06</td>\n      <td>22000000</td>\n      <td>0</td>\n      <td>0</td>\n      <td>0</td>\n      <td>0</td>\n      <td>0</td>\n      <td>0</td>\n      <td>0</td>\n      <td>0</td>\n      <td>...</td>\n      <td>0</td>\n      <td>0</td>\n      <td>0</td>\n      <td>0</td>\n      <td>0</td>\n      <td>0</td>\n      <td>0</td>\n      <td>0</td>\n      <td>0</td>\n      <td>1</td>\n    </tr>\n  </tbody>\n</table>\n<p>5 rows × 27 columns</p>\n</div>"
     },
     "metadata": {},
     "execution_count": 82
    }
   ],
   "source": [
    "# Create dummy variables for text features\n",
    "df_dumm = pd.get_dummies (df_mined, columns = [\"Algorithm\", \"ProofType\"])\n",
    "df_dumm.head()"
   ]
  },
  {
   "cell_type": "code",
   "execution_count": 83,
   "metadata": {},
   "outputs": [],
   "source": [
    "# Standardize data\n",
    "data_scaler = StandardScaler()"
   ]
  },
  {
   "cell_type": "code",
   "execution_count": 84,
   "metadata": {},
   "outputs": [
    {
     "output_type": "execute_result",
     "data": {
      "text/plain": [
       "StandardScaler()"
      ]
     },
     "metadata": {},
     "execution_count": 84
    }
   ],
   "source": [
    "# Fitting the scaler\n",
    "data_scaler.fit (df_dumm)"
   ]
  },
  {
   "cell_type": "code",
   "execution_count": 85,
   "metadata": {},
   "outputs": [
    {
     "output_type": "execute_result",
     "data": {
      "text/plain": [
       "array([[-0.25570783, -0.18518161, -0.07559289, -0.07559289, -0.07559289,\n",
       "        -0.07559289, -0.10721125, -0.07559289, -0.07559289, -0.20351933,\n",
       "        -0.13168538, -0.07559289, -0.07559289, -0.07559289, -0.17099639,\n",
       "        -0.30523385, -0.15249857, -0.07559289,  1.1740436 , -0.10721125,\n",
       "        -0.4982238 , -0.27050089, -0.07559289, -0.13168538, -0.07559289,\n",
       "        -0.10721125,  0.        ],\n",
       "       [-0.14765455, -0.16483251, -0.07559289, -0.07559289, -0.07559289,\n",
       "        -0.07559289, -0.10721125, -0.07559289, -0.07559289, -0.20351933,\n",
       "        -0.13168538, -0.07559289, -0.07559289, -0.07559289, -0.17099639,\n",
       "        -0.30523385, -0.15249857, -0.07559289,  1.1740436 , -0.10721125,\n",
       "        -0.4982238 , -0.27050089, -0.07559289, -0.13168538, -0.07559289,\n",
       "        -0.10721125,  0.        ],\n",
       "       [ 2.74257034, 11.83147436, -0.07559289, -0.07559289, -0.07559289,\n",
       "        -0.07559289, -0.10721125, -0.07559289, -0.07559289, -0.20351933,\n",
       "        -0.13168538, -0.07559289, -0.07559289, -0.07559289, -0.17099639,\n",
       "        -0.30523385, -0.15249857, -0.07559289, -0.85175712, -0.10721125,\n",
       "        -0.4982238 ,  3.6968455 , -0.07559289, -0.13168538, -0.07559289,\n",
       "        -0.10721125,  0.        ],\n",
       "       [-0.25478301, -0.18434011, -0.07559289, -0.07559289, -0.07559289,\n",
       "        -0.07559289, -0.10721125, -0.07559289, -0.07559289, -0.20351933,\n",
       "        -0.13168538, -0.07559289, -0.07559289, -0.07559289, -0.17099639,\n",
       "        -0.30523385, -0.15249857, -0.07559289, -0.85175712, -0.10721125,\n",
       "         2.00713015, -0.27050089, -0.07559289, -0.13168538, -0.07559289,\n",
       "        -0.10721125,  0.        ],\n",
       "       [-0.25557585, -0.18434011, -0.07559289, -0.07559289, -0.07559289,\n",
       "        -0.07559289, -0.10721125, -0.07559289, -0.07559289, -0.20351933,\n",
       "        -0.13168538, -0.07559289, -0.07559289, -0.07559289, -0.17099639,\n",
       "         3.27617663, -0.15249857, -0.07559289, -0.85175712, -0.10721125,\n",
       "        -0.4982238 , -0.27050089, -0.07559289, -0.13168538, -0.07559289,\n",
       "        -0.10721125,  0.        ]])"
      ]
     },
     "metadata": {},
     "execution_count": 85
    }
   ],
   "source": [
    "# Transforming the data\n",
    "df_dumm_scaled = data_scaler.transform (df_dumm)\n",
    "df_dumm_scaled [:5]"
   ]
  },
  {
   "cell_type": "markdown",
   "metadata": {},
   "source": [
    "### Reducing Dimensions Using PCA"
   ]
  },
  {
   "cell_type": "code",
   "execution_count": 86,
   "metadata": {},
   "outputs": [],
   "source": [
    "# Use PCA to reduce dimensions to 3 principal components\n",
    "pca = PCA(n_components=3)"
   ]
  },
  {
   "cell_type": "code",
   "execution_count": 87,
   "metadata": {},
   "outputs": [],
   "source": [
    "# Get two principal components for the iris data.\n",
    "df_pca = pca.fit_transform(df_dumm_scaled)"
   ]
  },
  {
   "cell_type": "code",
   "execution_count": 88,
   "metadata": {},
   "outputs": [
    {
     "output_type": "execute_result",
     "data": {
      "text/plain": [
       "      Coin1     Coin2     Coin3\n",
       "0 -0.377249  1.385846 -0.199472\n",
       "1 -0.302068  1.388717 -0.204339\n",
       "2  9.971825 -0.509966 -0.928588\n",
       "3 -0.662798 -1.492953 -1.537230\n",
       "4 -0.437772 -0.892335  2.286034"
      ],
      "text/html": "<div>\n<style scoped>\n    .dataframe tbody tr th:only-of-type {\n        vertical-align: middle;\n    }\n\n    .dataframe tbody tr th {\n        vertical-align: top;\n    }\n\n    .dataframe thead th {\n        text-align: right;\n    }\n</style>\n<table border=\"1\" class=\"dataframe\">\n  <thead>\n    <tr style=\"text-align: right;\">\n      <th></th>\n      <th>Coin1</th>\n      <th>Coin2</th>\n      <th>Coin3</th>\n    </tr>\n  </thead>\n  <tbody>\n    <tr>\n      <th>0</th>\n      <td>-0.377249</td>\n      <td>1.385846</td>\n      <td>-0.199472</td>\n    </tr>\n    <tr>\n      <th>1</th>\n      <td>-0.302068</td>\n      <td>1.388717</td>\n      <td>-0.204339</td>\n    </tr>\n    <tr>\n      <th>2</th>\n      <td>9.971825</td>\n      <td>-0.509966</td>\n      <td>-0.928588</td>\n    </tr>\n    <tr>\n      <th>3</th>\n      <td>-0.662798</td>\n      <td>-1.492953</td>\n      <td>-1.537230</td>\n    </tr>\n    <tr>\n      <th>4</th>\n      <td>-0.437772</td>\n      <td>-0.892335</td>\n      <td>2.286034</td>\n    </tr>\n  </tbody>\n</table>\n</div>"
     },
     "metadata": {},
     "execution_count": 88
    }
   ],
   "source": [
    "# Create a DataFrame with the principal components data\n",
    "df_pca = pd.DataFrame (data = df_pca, columns=[\"Coin1\", \"Coin2\", \"Coin3\"])\n",
    "df_pca.head()"
   ]
  },
  {
   "cell_type": "markdown",
   "metadata": {},
   "source": [
    "### Clustering Crytocurrencies Using K-Means\n",
    "\n",
    "#### Find the Best Value for `k` Using the Elbow Curve"
   ]
  },
  {
   "cell_type": "code",
   "execution_count": 89,
   "metadata": {},
   "outputs": [
    {
     "output_type": "display_data",
     "data": {},
     "metadata": {}
    },
    {
     "output_type": "execute_result",
     "data": {
      "text/html": "<div id='1203'>\n\n\n\n\n\n  <div class=\"bk-root\" id=\"b219a67d-16e5-4333-b68f-ded1bfcc29a9\" data-root-id=\"1203\"></div>\n</div>\n<script type=\"application/javascript\">(function(root) {\n  function embed_document(root) {\n    var docs_json = {\"520078fd-74ad-4ade-9cf4-998ab23b2a59\":{\"roots\":{\"references\":[{\"attributes\":{\"children\":[{\"id\":\"1204\"},{\"id\":\"1208\"},{\"id\":\"1267\"}],\"margin\":[0,0,0,0],\"name\":\"Row01892\",\"tags\":[\"embedded\"]},\"id\":\"1203\",\"type\":\"Row\"},{\"attributes\":{\"data\":{\"inertia\":{\"__ndarray__\":\"H0SsP68HiEA4UtZZ/fl/QP6TR0v8OHNAElinM+d7XkB5Em9ROwRQQOeJ5LK+WEZAdr/EqcPNO0BRsqd7SFYwQLwldJVAGCdAOnMMCJdEHkA=\",\"dtype\":\"float64\",\"order\":\"little\",\"shape\":[10]},\"k\":[1,2,3,4,5,6,7,8,9,10]},\"selected\":{\"id\":\"1239\"},\"selection_policy\":{\"id\":\"1258\"}},\"id\":\"1238\",\"type\":\"ColumnDataSource\"},{\"attributes\":{},\"id\":\"1226\",\"type\":\"PanTool\"},{\"attributes\":{},\"id\":\"1215\",\"type\":\"LinearScale\"},{\"attributes\":{\"text\":\"Elbow Curve\",\"text_color\":{\"value\":\"black\"},\"text_font_size\":{\"value\":\"12pt\"}},\"id\":\"1209\",\"type\":\"Title\"},{\"attributes\":{\"axis_label\":\"k\",\"bounds\":\"auto\",\"formatter\":{\"id\":\"1248\"},\"major_label_orientation\":\"horizontal\",\"ticker\":{\"id\":\"1246\"}},\"id\":\"1217\",\"type\":\"LinearAxis\"},{\"attributes\":{\"axis\":{\"id\":\"1221\"},\"dimension\":1,\"grid_line_color\":null,\"ticker\":null},\"id\":\"1224\",\"type\":\"Grid\"},{\"attributes\":{\"margin\":[5,5,5,5],\"name\":\"HSpacer01897\",\"sizing_mode\":\"stretch_width\"},\"id\":\"1267\",\"type\":\"Spacer\"},{\"attributes\":{\"axis_label\":\"inertia\",\"bounds\":\"auto\",\"formatter\":{\"id\":\"1252\"},\"major_label_orientation\":\"horizontal\",\"ticker\":{\"id\":\"1222\"}},\"id\":\"1221\",\"type\":\"LinearAxis\"},{\"attributes\":{},\"id\":\"1222\",\"type\":\"BasicTicker\"},{\"attributes\":{},\"id\":\"1227\",\"type\":\"WheelZoomTool\"},{\"attributes\":{},\"id\":\"1225\",\"type\":\"SaveTool\"},{\"attributes\":{\"overlay\":{\"id\":\"1230\"}},\"id\":\"1228\",\"type\":\"BoxZoomTool\"},{\"attributes\":{},\"id\":\"1229\",\"type\":\"ResetTool\"},{\"attributes\":{},\"id\":\"1239\",\"type\":\"Selection\"},{\"attributes\":{\"active_drag\":\"auto\",\"active_inspect\":\"auto\",\"active_multi\":null,\"active_scroll\":\"auto\",\"active_tap\":\"auto\",\"tools\":[{\"id\":\"1207\"},{\"id\":\"1225\"},{\"id\":\"1226\"},{\"id\":\"1227\"},{\"id\":\"1228\"},{\"id\":\"1229\"}]},\"id\":\"1231\",\"type\":\"Toolbar\"},{\"attributes\":{\"line_alpha\":0.1,\"line_color\":\"#1f77b3\",\"line_width\":2,\"x\":{\"field\":\"k\"},\"y\":{\"field\":\"inertia\"}},\"id\":\"1242\",\"type\":\"Line\"},{\"attributes\":{\"line_color\":\"#1f77b3\",\"line_width\":2,\"x\":{\"field\":\"k\"},\"y\":{\"field\":\"inertia\"}},\"id\":\"1241\",\"type\":\"Line\"},{\"attributes\":{},\"id\":\"1258\",\"type\":\"UnionRenderers\"},{\"attributes\":{\"data_source\":{\"id\":\"1238\"},\"glyph\":{\"id\":\"1241\"},\"hover_glyph\":null,\"muted_glyph\":{\"id\":\"1243\"},\"nonselection_glyph\":{\"id\":\"1242\"},\"selection_glyph\":null,\"view\":{\"id\":\"1245\"}},\"id\":\"1244\",\"type\":\"GlyphRenderer\"},{\"attributes\":{\"below\":[{\"id\":\"1217\"}],\"center\":[{\"id\":\"1220\"},{\"id\":\"1224\"}],\"left\":[{\"id\":\"1221\"}],\"margin\":[5,5,5,5],\"min_border_bottom\":10,\"min_border_left\":10,\"min_border_right\":10,\"min_border_top\":10,\"plot_height\":300,\"plot_width\":700,\"renderers\":[{\"id\":\"1244\"}],\"sizing_mode\":\"fixed\",\"title\":{\"id\":\"1209\"},\"toolbar\":{\"id\":\"1231\"},\"x_range\":{\"id\":\"1205\"},\"x_scale\":{\"id\":\"1213\"},\"y_range\":{\"id\":\"1206\"},\"y_scale\":{\"id\":\"1215\"}},\"id\":\"1208\",\"subtype\":\"Figure\",\"type\":\"Plot\"},{\"attributes\":{\"ticks\":[1,2,3,4,5,6,7,8,9,10]},\"id\":\"1246\",\"type\":\"FixedTicker\"},{\"attributes\":{\"line_alpha\":0.2,\"line_color\":\"#1f77b3\",\"line_width\":2,\"x\":{\"field\":\"k\"},\"y\":{\"field\":\"inertia\"}},\"id\":\"1243\",\"type\":\"Line\"},{\"attributes\":{\"callback\":null,\"renderers\":[{\"id\":\"1244\"}],\"tags\":[\"hv_created\"],\"tooltips\":[[\"k\",\"@{k}\"],[\"inertia\",\"@{inertia}\"]]},\"id\":\"1207\",\"type\":\"HoverTool\"},{\"attributes\":{\"source\":{\"id\":\"1238\"}},\"id\":\"1245\",\"type\":\"CDSView\"},{\"attributes\":{\"bottom_units\":\"screen\",\"fill_alpha\":0.5,\"fill_color\":\"lightgrey\",\"left_units\":\"screen\",\"level\":\"overlay\",\"line_alpha\":1.0,\"line_color\":\"black\",\"line_dash\":[4,4],\"line_width\":2,\"right_units\":\"screen\",\"top_units\":\"screen\"},\"id\":\"1230\",\"type\":\"BoxAnnotation\"},{\"attributes\":{\"axis\":{\"id\":\"1217\"},\"grid_line_color\":null,\"ticker\":null},\"id\":\"1220\",\"type\":\"Grid\"},{\"attributes\":{\"end\":10.0,\"reset_end\":10.0,\"reset_start\":1.0,\"start\":1.0,\"tags\":[[[\"k\",\"k\",null]]]},\"id\":\"1205\",\"type\":\"Range1d\"},{\"attributes\":{},\"id\":\"1248\",\"type\":\"BasicTickFormatter\"},{\"attributes\":{\"end\":845.0999294927939,\"reset_end\":845.0999294927939,\"reset_start\":-68.57237643837644,\"start\":-68.57237643837644,\"tags\":[[[\"inertia\",\"inertia\",null]]]},\"id\":\"1206\",\"type\":\"Range1d\"},{\"attributes\":{\"margin\":[5,5,5,5],\"name\":\"HSpacer01896\",\"sizing_mode\":\"stretch_width\"},\"id\":\"1204\",\"type\":\"Spacer\"},{\"attributes\":{},\"id\":\"1213\",\"type\":\"LinearScale\"},{\"attributes\":{},\"id\":\"1252\",\"type\":\"BasicTickFormatter\"}],\"root_ids\":[\"1203\"]},\"title\":\"Bokeh Application\",\"version\":\"2.2.3\"}};\n    var render_items = [{\"docid\":\"520078fd-74ad-4ade-9cf4-998ab23b2a59\",\"root_ids\":[\"1203\"],\"roots\":{\"1203\":\"b219a67d-16e5-4333-b68f-ded1bfcc29a9\"}}];\n    root.Bokeh.embed.embed_items_notebook(docs_json, render_items);\n  }\n  if (root.Bokeh !== undefined && root.Bokeh.Panel !== undefined) {\n    embed_document(root);\n  } else {\n    var attempts = 0;\n    var timer = setInterval(function(root) {\n      if (root.Bokeh !== undefined && root.Bokeh.Panel !== undefined) {\n        clearInterval(timer);\n        embed_document(root);\n      } else if (document.readyState == \"complete\") {\n        attempts++;\n        if (attempts > 100) {\n          clearInterval(timer);\n          console.log(\"Bokeh: ERROR: Unable to run BokehJS code because BokehJS library is missing\");\n        }\n      }\n    }, 10, root)\n  }\n})(window);</script>",
      "application/vnd.holoviews_exec.v0+json": "",
      "text/plain": [
       ":Curve   [k]   (inertia)"
      ]
     },
     "metadata": {
      "application/vnd.holoviews_exec.v0+json": {
       "id": "1203"
      }
     },
     "execution_count": 89
    }
   ],
   "source": [
    "inertia = []\n",
    "k = list(range(1, 11))\n",
    "\n",
    "# Calculate the inertia for the range of k values\n",
    "for i in k:\n",
    "    km = KMeans(n_clusters=i, random_state=0)\n",
    "    km.fit(df_pca)\n",
    "    inertia.append(km.inertia_)\n",
    "\n",
    "# Create the Elbow Curve using hvPlot\n",
    "elbow_data = {\"k\": k, \"inertia\": inertia}\n",
    "df_elbow = pd.DataFrame(elbow_data)\n",
    "df_elbow.hvplot.line(x=\"k\", y=\"inertia\", xticks=k, title=\"Elbow Curve\")"
   ]
  },
  {
   "cell_type": "markdown",
   "metadata": {},
   "source": [
    "Running K-Means with `k= 7, inertia = 27.8"
   ]
  },
  {
   "cell_type": "code",
   "execution_count": 90,
   "metadata": {},
   "outputs": [
    {
     "output_type": "execute_result",
     "data": {
      "text/plain": [
       "      Coin1     Coin2     Coin3  Class\n",
       "0 -0.377249  1.385846 -0.199472      2\n",
       "1 -0.302068  1.388717 -0.204339      2\n",
       "2  9.971825 -0.509966 -0.928588      1\n",
       "3 -0.662798 -1.492953 -1.537230      3\n",
       "4 -0.437772 -0.892335  2.286034      6"
      ],
      "text/html": "<div>\n<style scoped>\n    .dataframe tbody tr th:only-of-type {\n        vertical-align: middle;\n    }\n\n    .dataframe tbody tr th {\n        vertical-align: top;\n    }\n\n    .dataframe thead th {\n        text-align: right;\n    }\n</style>\n<table border=\"1\" class=\"dataframe\">\n  <thead>\n    <tr style=\"text-align: right;\">\n      <th></th>\n      <th>Coin1</th>\n      <th>Coin2</th>\n      <th>Coin3</th>\n      <th>Class</th>\n    </tr>\n  </thead>\n  <tbody>\n    <tr>\n      <th>0</th>\n      <td>-0.377249</td>\n      <td>1.385846</td>\n      <td>-0.199472</td>\n      <td>2</td>\n    </tr>\n    <tr>\n      <th>1</th>\n      <td>-0.302068</td>\n      <td>1.388717</td>\n      <td>-0.204339</td>\n      <td>2</td>\n    </tr>\n    <tr>\n      <th>2</th>\n      <td>9.971825</td>\n      <td>-0.509966</td>\n      <td>-0.928588</td>\n      <td>1</td>\n    </tr>\n    <tr>\n      <th>3</th>\n      <td>-0.662798</td>\n      <td>-1.492953</td>\n      <td>-1.537230</td>\n      <td>3</td>\n    </tr>\n    <tr>\n      <th>4</th>\n      <td>-0.437772</td>\n      <td>-0.892335</td>\n      <td>2.286034</td>\n      <td>6</td>\n    </tr>\n  </tbody>\n</table>\n</div>"
     },
     "metadata": {},
     "execution_count": 90
    }
   ],
   "source": [
    "# Initialize the K-Means model with k = 7\n",
    "model = KMeans(n_clusters=7, random_state=0)\n",
    "\n",
    "# Fit the model\n",
    "model.fit(df_pca)\n",
    "\n",
    "# Predict clusters\n",
    "predictions = model.predict(df_pca)\n",
    "\n",
    "# Create a new DataFrame including predicted clusters and cryptocurrencies features\n",
    "df_pca[\"Class\"] = model.labels_\n",
    "df_pca.head()"
   ]
  },
  {
   "cell_type": "markdown",
   "metadata": {},
   "source": [
    "### Visualizing Results\n",
    "\n",
    "#### 3D-Scatter with Clusters"
   ]
  },
  {
   "cell_type": "code",
   "execution_count": 91,
   "metadata": {},
   "outputs": [
    {
     "output_type": "display_data",
     "data": {
      "application/vnd.plotly.v1+json": {
       "config": {
        "plotlyServerURL": "https://plot.ly"
       },
       "data": [
        {
         "hovertemplate": "Class=%{marker.color}<br>Coin3=%{x}<br>Coin2=%{y}<br>Coin1=%{z}<extra></extra>",
         "legendgroup": "2",
         "marker": {
          "color": [
           2,
           2,
           2,
           2,
           2,
           2,
           2,
           2,
           2,
           2,
           2,
           2,
           2,
           2,
           2,
           2,
           2,
           2,
           2,
           2,
           2,
           2,
           2,
           2,
           2,
           2,
           2,
           2,
           2,
           2,
           2,
           2,
           2,
           2,
           2,
           2,
           2,
           2,
           2,
           2,
           2,
           2,
           2,
           2,
           2,
           2,
           2,
           2,
           2,
           2,
           2,
           2,
           2,
           2,
           2,
           2,
           2,
           2,
           2,
           2,
           2,
           2,
           2,
           2,
           2,
           2,
           2,
           2
          ],
          "coloraxis": "coloraxis",
          "symbol": "circle"
         },
         "mode": "markers",
         "name": "2",
         "scene": "scene",
         "showlegend": true,
         "type": "scatter3d",
         "x": [
          -0.19947238518621566,
          -0.20433946684424573,
          -0.19958226802114362,
          -0.20130110603910417,
          -0.19982655407201422,
          -0.1994742276766573,
          -0.19947881587938757,
          -0.20014214246396625,
          -0.2015582196327043,
          -0.20002239830000249,
          -0.20813980540172838,
          -0.19996100237908496,
          -0.2033387221293874,
          -0.19947660930056102,
          -0.19957459134411265,
          -0.19964278087221218,
          -0.20869328378726998,
          -0.19963793711705674,
          -0.20010422318071103,
          -0.1999062517913148,
          -0.1995520647017673,
          -0.1994779678332607,
          -0.19956886246821381,
          -0.19965416210944195,
          -0.19962393267047984,
          -0.19964418042611448,
          -0.19960060672121374,
          -0.20174234444521313,
          -0.19999191769456776,
          -0.1995271055724925,
          -0.19949333534436237,
          -0.20126157018602445,
          -0.1995752158775225,
          -0.19954873189957426,
          -0.20579076751951703,
          -0.19956081524458705,
          -0.19957408598670826,
          -0.20291425192464957,
          -0.19989509941613784,
          -0.19969462650060216,
          -0.19949892212775824,
          -0.19952979730391682,
          -0.19955082061380916,
          -0.1995703535811988,
          -0.20051426150561788,
          -0.20001267978222645,
          -0.20426970676456488,
          -0.1994933544305399,
          -0.20094644110735738,
          -0.19948513991213498,
          -0.19949298924504666,
          -0.19960403339861535,
          -0.22113519103053283,
          -0.2639198874273105,
          -0.19982354279343803,
          -0.2029283648454637,
          -0.2644505890902591,
          -0.1995871630252445,
          -0.1998205128498636,
          -0.20017065028316278,
          -0.19971826751761007,
          -0.19950010307689905,
          -0.2384193828651384,
          -0.199696668615571,
          -0.2020121605808449,
          -0.20032107245737682,
          -0.20122977389447588,
          -0.2003754628000215
         ],
         "y": [
          1.3858461219919775,
          1.3887173347459543,
          1.385899670383624,
          1.387398603119193,
          1.3861467915320755,
          1.3858465014260422,
          1.3858492117157022,
          1.3861303476431255,
          1.3866216157623459,
          1.3860808243789584,
          1.3894127982834434,
          1.3860239633549614,
          1.3867587522509182,
          1.3858497081267205,
          1.3858854959204767,
          1.385891252201869,
          1.3889348013902587,
          1.3858816108921792,
          1.3861455497506903,
          1.3860011799108793,
          1.385864002397425,
          1.3858508614444833,
          1.385928025871225,
          1.3859091132971686,
          1.385875251139953,
          1.3859137673940278,
          1.3858886241331774,
          1.3862313391684906,
          1.385945943140609,
          1.385861770879651,
          1.3858560502630743,
          1.3861802033114714,
          1.3858860261141734,
          1.3858589613427812,
          1.38884040071093,
          1.385870928458296,
          1.3858646877196676,
          1.3863984009492782,
          1.3859561670895086,
          1.3859204510303837,
          1.385858697837366,
          1.3858575789048626,
          1.3858629462368028,
          1.3858942483758367,
          1.386232985258178,
          1.3859493509507674,
          1.3877860730008063,
          1.3858544451103862,
          1.3865477486155822,
          1.385849841119015,
          1.3858517654162772,
          1.3858867938449537,
          1.3920992790452413,
          1.4163877660822835,
          1.3859451826622153,
          1.3864103820243425,
          1.3983548588319643,
          1.3858937988976485,
          1.3859426104107389,
          1.38596497540117,
          1.3859262931287666,
          1.385869653019883,
          1.3940283720014963,
          1.3860009810106444,
          1.3870543795094088,
          1.3861874622442911,
          1.3866271444883143,
          1.3860203660853883
         ],
         "z": [
          -0.37724936813032045,
          -0.3020684838706018,
          -0.37579109287924956,
          -0.33895748165244527,
          -0.36983336592338295,
          -0.37723590962292675,
          -0.37716496030823266,
          -0.36925492373313407,
          -0.35467773943158704,
          -0.37065681863762995,
          -0.27615703502061234,
          -0.37204289308909044,
          -0.3465391279002334,
          -0.37716091660031065,
          -0.37611420704231113,
          -0.3757918230713637,
          -0.28466670961591856,
          -0.37601049168578643,
          -0.3690439693516438,
          -0.37268684836034355,
          -0.3766361437045809,
          -0.3771324700624092,
          -0.37522921246803376,
          -0.37537965271530466,
          -0.3761864886432737,
          -0.375310288985084,
          -0.37597144779238634,
          -0.36241242805291696,
          -0.37360644762467043,
          -0.3767567860089028,
          -0.37697729775220384,
          -0.3649091403722702,
          -0.376101129835324,
          -0.3767528275574457,
          -0.2951953493271807,
          -0.37646357323632346,
          -0.37655691835336236,
          -0.3554271787865024,
          -0.3736740840953431,
          -0.375020367131074,
          -0.3769047446831367,
          -0.3768377668889446,
          -0.3766621938653636,
          -0.3759410655131288,
          -0.36598534838115937,
          -0.3734731926155121,
          -0.3220203264888633,
          -0.37701127807936863,
          -0.358041316858758,
          -0.3771330355986929,
          -0.37706917238008447,
          -0.37600019127923673,
          -0.18101420851202693,
          0.45970165536733076,
          -0.3741172198316733,
          -0.35513166603449065,
          0.07888265186380286,
          -0.37590121418159794,
          -0.3741806643146363,
          -0.3726778036212429,
          -0.37482703672040607,
          -0.3766689765836147,
          -0.08933185770988278,
          -0.37330677302306375,
          -0.3441676433982637,
          -0.3675181842847562,
          -0.35552540369370866,
          -0.37090158201142576
         ]
        },
        {
         "hovertemplate": "Class=%{marker.color}<br>Coin3=%{x}<br>Coin2=%{y}<br>Coin1=%{z}<extra></extra>",
         "legendgroup": "1",
         "marker": {
          "color": [
           1,
           1,
           1,
           1
          ],
          "coloraxis": "coloraxis",
          "symbol": "diamond"
         },
         "mode": "markers",
         "name": "1",
         "scene": "scene",
         "showlegend": true,
         "type": "scatter3d",
         "x": [
          -0.9285879436373335,
          -0.03173186784093265,
          -0.4071452848360945,
          -0.8461629860466411
         ],
         "y": [
          -0.5099655758425193,
          -0.5289056288370401,
          -0.49679950491289354,
          -0.4771133953126352
         ],
         "z": [
          9.971825035715211,
          6.935454866858639,
          5.985936878418298,
          5.360177090694718
         ]
        },
        {
         "hovertemplate": "Class=%{marker.color}<br>Coin3=%{x}<br>Coin2=%{y}<br>Coin1=%{z}<extra></extra>",
         "legendgroup": "3",
         "marker": {
          "color": [
           3,
           3,
           3,
           3,
           3,
           3,
           3,
           3,
           3,
           3,
           3,
           3,
           3,
           3,
           3,
           3,
           3,
           3,
           3,
           3,
           3,
           3,
           3,
           3,
           3,
           3,
           3,
           3,
           3,
           3,
           3,
           3,
           3,
           3,
           3
          ],
          "coloraxis": "coloraxis",
          "symbol": "square"
         },
         "mode": "markers",
         "name": "3",
         "scene": "scene",
         "showlegend": true,
         "type": "scatter3d",
         "x": [
          -1.5372298631397505,
          -1.5372546700133838,
          -1.5371281888960064,
          -1.5371667071506228,
          -1.5371671085985075,
          -1.5371325384395733,
          -1.6601184501221964,
          -1.5384792580800795,
          -1.5377734571783062,
          -1.5376765883271442,
          -1.5373449955890124,
          -1.5371403959998322,
          -1.5430505566871873,
          -1.5372841846915601,
          -1.5371525288610808,
          -1.5373520754435113,
          -1.5371477287944877,
          -1.5371766504559479,
          -1.5375101066647914,
          -1.5378250183816762,
          -1.537534162257955,
          -1.539198543724317,
          -1.5373152176466236,
          -1.537197064916413,
          -1.5372419744881045,
          -1.5377335375246974,
          -1.537430212805587,
          -1.5372204316768028,
          -1.5373887613722441,
          -1.5386175405738591,
          -1.5372998210427333,
          -1.5378262993234404,
          -1.5401042019901625,
          -1.5419910122792857,
          -1.5384233084845298
         ],
         "y": [
          -1.4929526111041995,
          -1.492931551465374,
          -1.4929867963933017,
          -1.4929777909163415,
          -1.4929667865848406,
          -1.4929831015060664,
          -1.451489784531994,
          -1.492749766486665,
          -1.4926167230016283,
          -1.492850618221647,
          -1.4929212209592628,
          -1.4929835398964395,
          -1.4915135455453812,
          -1.4929254525431088,
          -1.4929752618851801,
          -1.4929389072833579,
          -1.4929820541110708,
          -1.4929678188017996,
          -1.4928995345629088,
          -1.492655888970043,
          -1.492879112718898,
          -1.492414015452112,
          -1.4929228040336406,
          -1.4929508512764416,
          -1.492954177612391,
          -1.4928141199207168,
          -1.4928488763410255,
          -1.4929677269017188,
          -1.4928840662737761,
          -1.492717680635042,
          -1.492912178161456,
          -1.4923941375817722,
          -1.4916451625825913,
          -1.491228202989337,
          -1.4923802022373789
         ],
         "z": [
          -0.6627979607502515,
          -0.6622785255749897,
          -0.6638215368940616,
          -0.6635174228480332,
          -0.6632829025659029,
          -0.6637304108438854,
          0.5774172976999399,
          -0.6548263153992039,
          -0.6540786804381125,
          -0.659322880933785,
          -0.6617941170249453,
          -0.6637166229735847,
          -0.6151834941170693,
          -0.6620624938887986,
          -0.6635054486533501,
          -0.662148347017033,
          -0.6636635756338279,
          -0.6632767583913173,
          -0.6608492103687797,
          -0.6547576987593091,
          -0.660345506377896,
          -0.6455938000756968,
          -0.6619151659992796,
          -0.6628569981754805,
          -0.6627955973609939,
          -0.6583816505030851,
          -0.6600097398205019,
          -0.6631461905582637,
          -0.6608776981477059,
          -0.6537397100905544,
          -0.6617350817798934,
          -0.6492036384817942,
          -0.6266300738528336,
          -0.6122456563407616,
          -0.6471542716246279
         ]
        },
        {
         "hovertemplate": "Class=%{marker.color}<br>Coin3=%{x}<br>Coin2=%{y}<br>Coin1=%{z}<extra></extra>",
         "legendgroup": "6",
         "marker": {
          "color": [
           6,
           6,
           6,
           6,
           6,
           6,
           6,
           6,
           6,
           6,
           6,
           6,
           6,
           6,
           6
          ],
          "coloraxis": "coloraxis",
          "symbol": "x"
         },
         "mode": "markers",
         "name": "6",
         "scene": "scene",
         "showlegend": true,
         "type": "scatter3d",
         "x": [
          2.2860343588878376,
          2.2731461271262483,
          2.285767218026785,
          2.2825494054308515,
          2.2860275069676987,
          2.2860628720271357,
          2.285963543427613,
          2.285344047591859,
          2.284259578037778,
          2.2860397949845357,
          2.2860092147518203,
          2.2860342386630514,
          2.2855047967673223,
          2.233830362548273,
          2.285537598325371
         ],
         "y": [
          -0.8923349841725935,
          -0.8870741793240327,
          -0.8922172015451458,
          -0.8916939943288407,
          -0.8923291672782322,
          -0.8923319389920862,
          -0.8923175199339377,
          -0.8922246012044045,
          -0.8920202402812261,
          -0.8923372294403913,
          -0.8923088988726189,
          -0.8923325124363309,
          -0.8920702501830315,
          -0.8484148358477868,
          -0.8921099452196855
         ],
         "z": [
          -0.4377715418830537,
          -0.28835635344920485,
          -0.43448922641449994,
          -0.41394170713280387,
          -0.4376280684091239,
          -0.4377907355059609,
          -0.4371931826025372,
          -0.4334029549468702,
          -0.4258836699438976,
          -0.4378351215768766,
          -0.4371445494715856,
          -0.43771877685457633,
          -0.43060226874471197,
          0.6468948561283112,
          -0.43154034403196195
         ]
        },
        {
         "hovertemplate": "Class=%{marker.color}<br>Coin3=%{x}<br>Coin2=%{y}<br>Coin1=%{z}<extra></extra>",
         "legendgroup": "5",
         "marker": {
          "color": [
           5,
           5,
           5,
           5,
           5,
           5,
           5,
           5,
           5,
           5,
           5,
           5,
           5,
           5,
           5
          ],
          "coloraxis": "coloraxis",
          "symbol": "cross"
         },
         "mode": "markers",
         "name": "5",
         "scene": "scene",
         "showlegend": true,
         "type": "scatter3d",
         "x": [
          0.018230389992602045,
          0.23632905599630383,
          0.23647563232897245,
          0.23642400941863514,
          0.23647214595860855,
          0.2364644230108724,
          0.23628091468813336,
          0.01937863335601574,
          0.9788210663741377,
          0.6557271232136711,
          0.2363548302135877,
          0.23639115762034787,
          0.8228561782726538,
          0.23526855918534895,
          0.23651843365365288
         ],
         "y": [
          -0.6454783878846966,
          -0.7544600371356931,
          -0.7545844721883228,
          -0.7545406472443653,
          -0.7546099485224771,
          -0.7545986528303544,
          -0.7545376514853969,
          -0.6456861142148517,
          -0.7331476669727452,
          -0.6661235966560571,
          -0.7545530081604888,
          -0.7545575404271642,
          -0.6718324251395662,
          -0.7540573662202219,
          -0.7546210924634704
         ],
         "z": [
          1.58362552568278,
          1.3651939165544305,
          1.3621247308048972,
          1.3632056713487928,
          1.3615947610179238,
          1.3618569683250499,
          1.3636895741583623,
          1.5758475262772527,
          0.7208174651179032,
          1.8130670965561166,
          1.3631467973502212,
          1.362943971524581,
          2.479163046555001,
          1.3768478317044868,
          1.361222477168018
         ]
        },
        {
         "hovertemplate": "Class=%{marker.color}<br>Coin3=%{x}<br>Coin2=%{y}<br>Coin1=%{z}<extra></extra>",
         "legendgroup": "0",
         "marker": {
          "color": [
           0,
           0,
           0,
           0,
           0,
           0,
           0,
           0,
           0,
           0,
           0,
           0,
           0,
           0,
           0,
           0,
           0,
           0,
           0,
           0,
           0,
           0,
           0,
           0,
           0,
           0,
           0,
           0,
           0,
           0,
           0,
           0,
           0
          ],
          "coloraxis": "coloraxis",
          "symbol": "circle"
         },
         "mode": "markers",
         "name": "0",
         "scene": "scene",
         "showlegend": true,
         "type": "scatter3d",
         "x": [
          1.0261087979516461,
          0.9831175938147076,
          1.064948877764412,
          1.0259802877628867,
          0.9868113903558492,
          0.9863484285733193,
          1.007250678263384,
          0.9822616176701339,
          0.7519413984269383,
          0.9843724303730705,
          0.9858860368744237,
          1.007754073926468,
          1.0072064874589233,
          1.0234299557066078,
          1.023313319573988,
          1.0630693207364783,
          1.0020586941408287,
          0.9853590462469266,
          1.1665304424751968,
          0.9863727935647058,
          1.0177682485498096,
          1.007588781034041,
          1.1662166647117824,
          0.7804399653132863,
          0.984125276862571,
          1.167272156860357,
          0.9854464989083384,
          0.9773181415541299,
          1.1670195045479186,
          1.167188856670658,
          1.0156831319314905,
          0.7610978392444073,
          1.0647608883759068
         ],
         "y": [
          -0.7451497634780481,
          -0.7356241619923352,
          -0.754163220868901,
          -0.745030286400091,
          -0.7361890965160499,
          -0.7361480923626945,
          -0.7574960770745617,
          -0.7353309827304362,
          -0.7181974140906885,
          -0.7358978550108279,
          -0.7361069884509269,
          -0.7577338578708372,
          -0.7575296517356711,
          -0.7449788073901435,
          -0.7448797898814028,
          -0.753506518002859,
          -0.7557187110487157,
          -0.7360968619063836,
          -0.7739747426475919,
          -0.7361441987590527,
          -0.7444215857892128,
          -0.7576883204004916,
          -0.7737083629954759,
          -0.724841300369731,
          -0.7358405756748856,
          -0.774142688137743,
          -0.7360714995135683,
          -0.7355996623291778,
          -0.774043956668277,
          -0.7741048738633561,
          -0.7436940949578559,
          -0.7200323182329553,
          -0.7541372735796072
         ],
         "z": [
          -0.517459366078368,
          -0.5020408354667207,
          -0.514045468610717,
          -0.5145483856796496,
          -0.5145758421507409,
          -0.5134890363934416,
          0.12100289635518773,
          -0.49649931371711015,
          0.4262144769399563,
          -0.5076279955900299,
          -0.5124011274052238,
          0.11448202218321123,
          0.12042078615886635,
          -0.51227144918034,
          -0.5098291861655737,
          -0.494598732575064,
          0.17394383866738677,
          -0.5117579134242266,
          -0.5200288719663906,
          -0.5134478974450306,
          -0.5018748632016,
          0.1159332121486688,
          -0.5134586281729062,
          0.20161222335681916,
          -0.5064727417373283,
          -0.5257690516027909,
          -0.5114252173660349,
          -0.4963751259783463,
          -0.5229332696933484,
          -0.5247225035192916,
          -0.4803232197760807,
          0.36040680935812835,
          -0.5129430008028757
         ]
        },
        {
         "hovertemplate": "Class=%{marker.color}<br>Coin3=%{x}<br>Coin2=%{y}<br>Coin1=%{z}<extra></extra>",
         "legendgroup": "4",
         "marker": {
          "color": [
           4,
           4,
           4,
           4,
           4,
           4
          ],
          "coloraxis": "coloraxis",
          "symbol": "diamond"
         },
         "mode": "markers",
         "name": "4",
         "scene": "scene",
         "showlegend": true,
         "type": "scatter3d",
         "x": [
          -0.2838412554903927,
          -0.39752468660975054,
          -0.42494724589697025,
          -0.38562886090331516,
          -0.545531394338985,
          -0.3639744269641448
         ],
         "y": [
          1.4574705421159535,
          1.4354977640767708,
          1.5180197774674178,
          1.4253988779133855,
          1.5023792542893653,
          1.442560565716079
         ],
         "z": [
          1.3893641774297574,
          1.2574189895965837,
          3.087814985613955,
          1.0083303538505077,
          3.1104145683436624,
          1.3086189590224937
         ]
        }
       ],
       "layout": {
        "coloraxis": {
         "colorbar": {
          "title": {
           "text": "Class"
          }
         },
         "colorscale": [
          [
           0,
           "#0d0887"
          ],
          [
           0.1111111111111111,
           "#46039f"
          ],
          [
           0.2222222222222222,
           "#7201a8"
          ],
          [
           0.3333333333333333,
           "#9c179e"
          ],
          [
           0.4444444444444444,
           "#bd3786"
          ],
          [
           0.5555555555555556,
           "#d8576b"
          ],
          [
           0.6666666666666666,
           "#ed7953"
          ],
          [
           0.7777777777777778,
           "#fb9f3a"
          ],
          [
           0.8888888888888888,
           "#fdca26"
          ],
          [
           1,
           "#f0f921"
          ]
         ]
        },
        "legend": {
         "title": {
          "text": "Class"
         },
         "tracegroupgap": 0,
         "x": 0,
         "y": 1
        },
        "margin": {
         "t": 60
        },
        "scene": {
         "domain": {
          "x": [
           0,
           1
          ],
          "y": [
           0,
           1
          ]
         },
         "xaxis": {
          "title": {
           "text": "Coin3"
          }
         },
         "yaxis": {
          "title": {
           "text": "Coin2"
          }
         },
         "zaxis": {
          "title": {
           "text": "Coin1"
          }
         }
        },
        "template": {
         "data": {
          "bar": [
           {
            "error_x": {
             "color": "#2a3f5f"
            },
            "error_y": {
             "color": "#2a3f5f"
            },
            "marker": {
             "line": {
              "color": "#E5ECF6",
              "width": 0.5
             }
            },
            "type": "bar"
           }
          ],
          "barpolar": [
           {
            "marker": {
             "line": {
              "color": "#E5ECF6",
              "width": 0.5
             }
            },
            "type": "barpolar"
           }
          ],
          "carpet": [
           {
            "aaxis": {
             "endlinecolor": "#2a3f5f",
             "gridcolor": "white",
             "linecolor": "white",
             "minorgridcolor": "white",
             "startlinecolor": "#2a3f5f"
            },
            "baxis": {
             "endlinecolor": "#2a3f5f",
             "gridcolor": "white",
             "linecolor": "white",
             "minorgridcolor": "white",
             "startlinecolor": "#2a3f5f"
            },
            "type": "carpet"
           }
          ],
          "choropleth": [
           {
            "colorbar": {
             "outlinewidth": 0,
             "ticks": ""
            },
            "type": "choropleth"
           }
          ],
          "contour": [
           {
            "colorbar": {
             "outlinewidth": 0,
             "ticks": ""
            },
            "colorscale": [
             [
              0,
              "#0d0887"
             ],
             [
              0.1111111111111111,
              "#46039f"
             ],
             [
              0.2222222222222222,
              "#7201a8"
             ],
             [
              0.3333333333333333,
              "#9c179e"
             ],
             [
              0.4444444444444444,
              "#bd3786"
             ],
             [
              0.5555555555555556,
              "#d8576b"
             ],
             [
              0.6666666666666666,
              "#ed7953"
             ],
             [
              0.7777777777777778,
              "#fb9f3a"
             ],
             [
              0.8888888888888888,
              "#fdca26"
             ],
             [
              1,
              "#f0f921"
             ]
            ],
            "type": "contour"
           }
          ],
          "contourcarpet": [
           {
            "colorbar": {
             "outlinewidth": 0,
             "ticks": ""
            },
            "type": "contourcarpet"
           }
          ],
          "heatmap": [
           {
            "colorbar": {
             "outlinewidth": 0,
             "ticks": ""
            },
            "colorscale": [
             [
              0,
              "#0d0887"
             ],
             [
              0.1111111111111111,
              "#46039f"
             ],
             [
              0.2222222222222222,
              "#7201a8"
             ],
             [
              0.3333333333333333,
              "#9c179e"
             ],
             [
              0.4444444444444444,
              "#bd3786"
             ],
             [
              0.5555555555555556,
              "#d8576b"
             ],
             [
              0.6666666666666666,
              "#ed7953"
             ],
             [
              0.7777777777777778,
              "#fb9f3a"
             ],
             [
              0.8888888888888888,
              "#fdca26"
             ],
             [
              1,
              "#f0f921"
             ]
            ],
            "type": "heatmap"
           }
          ],
          "heatmapgl": [
           {
            "colorbar": {
             "outlinewidth": 0,
             "ticks": ""
            },
            "colorscale": [
             [
              0,
              "#0d0887"
             ],
             [
              0.1111111111111111,
              "#46039f"
             ],
             [
              0.2222222222222222,
              "#7201a8"
             ],
             [
              0.3333333333333333,
              "#9c179e"
             ],
             [
              0.4444444444444444,
              "#bd3786"
             ],
             [
              0.5555555555555556,
              "#d8576b"
             ],
             [
              0.6666666666666666,
              "#ed7953"
             ],
             [
              0.7777777777777778,
              "#fb9f3a"
             ],
             [
              0.8888888888888888,
              "#fdca26"
             ],
             [
              1,
              "#f0f921"
             ]
            ],
            "type": "heatmapgl"
           }
          ],
          "histogram": [
           {
            "marker": {
             "colorbar": {
              "outlinewidth": 0,
              "ticks": ""
             }
            },
            "type": "histogram"
           }
          ],
          "histogram2d": [
           {
            "colorbar": {
             "outlinewidth": 0,
             "ticks": ""
            },
            "colorscale": [
             [
              0,
              "#0d0887"
             ],
             [
              0.1111111111111111,
              "#46039f"
             ],
             [
              0.2222222222222222,
              "#7201a8"
             ],
             [
              0.3333333333333333,
              "#9c179e"
             ],
             [
              0.4444444444444444,
              "#bd3786"
             ],
             [
              0.5555555555555556,
              "#d8576b"
             ],
             [
              0.6666666666666666,
              "#ed7953"
             ],
             [
              0.7777777777777778,
              "#fb9f3a"
             ],
             [
              0.8888888888888888,
              "#fdca26"
             ],
             [
              1,
              "#f0f921"
             ]
            ],
            "type": "histogram2d"
           }
          ],
          "histogram2dcontour": [
           {
            "colorbar": {
             "outlinewidth": 0,
             "ticks": ""
            },
            "colorscale": [
             [
              0,
              "#0d0887"
             ],
             [
              0.1111111111111111,
              "#46039f"
             ],
             [
              0.2222222222222222,
              "#7201a8"
             ],
             [
              0.3333333333333333,
              "#9c179e"
             ],
             [
              0.4444444444444444,
              "#bd3786"
             ],
             [
              0.5555555555555556,
              "#d8576b"
             ],
             [
              0.6666666666666666,
              "#ed7953"
             ],
             [
              0.7777777777777778,
              "#fb9f3a"
             ],
             [
              0.8888888888888888,
              "#fdca26"
             ],
             [
              1,
              "#f0f921"
             ]
            ],
            "type": "histogram2dcontour"
           }
          ],
          "mesh3d": [
           {
            "colorbar": {
             "outlinewidth": 0,
             "ticks": ""
            },
            "type": "mesh3d"
           }
          ],
          "parcoords": [
           {
            "line": {
             "colorbar": {
              "outlinewidth": 0,
              "ticks": ""
             }
            },
            "type": "parcoords"
           }
          ],
          "pie": [
           {
            "automargin": true,
            "type": "pie"
           }
          ],
          "scatter": [
           {
            "marker": {
             "colorbar": {
              "outlinewidth": 0,
              "ticks": ""
             }
            },
            "type": "scatter"
           }
          ],
          "scatter3d": [
           {
            "line": {
             "colorbar": {
              "outlinewidth": 0,
              "ticks": ""
             }
            },
            "marker": {
             "colorbar": {
              "outlinewidth": 0,
              "ticks": ""
             }
            },
            "type": "scatter3d"
           }
          ],
          "scattercarpet": [
           {
            "marker": {
             "colorbar": {
              "outlinewidth": 0,
              "ticks": ""
             }
            },
            "type": "scattercarpet"
           }
          ],
          "scattergeo": [
           {
            "marker": {
             "colorbar": {
              "outlinewidth": 0,
              "ticks": ""
             }
            },
            "type": "scattergeo"
           }
          ],
          "scattergl": [
           {
            "marker": {
             "colorbar": {
              "outlinewidth": 0,
              "ticks": ""
             }
            },
            "type": "scattergl"
           }
          ],
          "scattermapbox": [
           {
            "marker": {
             "colorbar": {
              "outlinewidth": 0,
              "ticks": ""
             }
            },
            "type": "scattermapbox"
           }
          ],
          "scatterpolar": [
           {
            "marker": {
             "colorbar": {
              "outlinewidth": 0,
              "ticks": ""
             }
            },
            "type": "scatterpolar"
           }
          ],
          "scatterpolargl": [
           {
            "marker": {
             "colorbar": {
              "outlinewidth": 0,
              "ticks": ""
             }
            },
            "type": "scatterpolargl"
           }
          ],
          "scatterternary": [
           {
            "marker": {
             "colorbar": {
              "outlinewidth": 0,
              "ticks": ""
             }
            },
            "type": "scatterternary"
           }
          ],
          "surface": [
           {
            "colorbar": {
             "outlinewidth": 0,
             "ticks": ""
            },
            "colorscale": [
             [
              0,
              "#0d0887"
             ],
             [
              0.1111111111111111,
              "#46039f"
             ],
             [
              0.2222222222222222,
              "#7201a8"
             ],
             [
              0.3333333333333333,
              "#9c179e"
             ],
             [
              0.4444444444444444,
              "#bd3786"
             ],
             [
              0.5555555555555556,
              "#d8576b"
             ],
             [
              0.6666666666666666,
              "#ed7953"
             ],
             [
              0.7777777777777778,
              "#fb9f3a"
             ],
             [
              0.8888888888888888,
              "#fdca26"
             ],
             [
              1,
              "#f0f921"
             ]
            ],
            "type": "surface"
           }
          ],
          "table": [
           {
            "cells": {
             "fill": {
              "color": "#EBF0F8"
             },
             "line": {
              "color": "white"
             }
            },
            "header": {
             "fill": {
              "color": "#C8D4E3"
             },
             "line": {
              "color": "white"
             }
            },
            "type": "table"
           }
          ]
         },
         "layout": {
          "annotationdefaults": {
           "arrowcolor": "#2a3f5f",
           "arrowhead": 0,
           "arrowwidth": 1
          },
          "coloraxis": {
           "colorbar": {
            "outlinewidth": 0,
            "ticks": ""
           }
          },
          "colorscale": {
           "diverging": [
            [
             0,
             "#8e0152"
            ],
            [
             0.1,
             "#c51b7d"
            ],
            [
             0.2,
             "#de77ae"
            ],
            [
             0.3,
             "#f1b6da"
            ],
            [
             0.4,
             "#fde0ef"
            ],
            [
             0.5,
             "#f7f7f7"
            ],
            [
             0.6,
             "#e6f5d0"
            ],
            [
             0.7,
             "#b8e186"
            ],
            [
             0.8,
             "#7fbc41"
            ],
            [
             0.9,
             "#4d9221"
            ],
            [
             1,
             "#276419"
            ]
           ],
           "sequential": [
            [
             0,
             "#0d0887"
            ],
            [
             0.1111111111111111,
             "#46039f"
            ],
            [
             0.2222222222222222,
             "#7201a8"
            ],
            [
             0.3333333333333333,
             "#9c179e"
            ],
            [
             0.4444444444444444,
             "#bd3786"
            ],
            [
             0.5555555555555556,
             "#d8576b"
            ],
            [
             0.6666666666666666,
             "#ed7953"
            ],
            [
             0.7777777777777778,
             "#fb9f3a"
            ],
            [
             0.8888888888888888,
             "#fdca26"
            ],
            [
             1,
             "#f0f921"
            ]
           ],
           "sequentialminus": [
            [
             0,
             "#0d0887"
            ],
            [
             0.1111111111111111,
             "#46039f"
            ],
            [
             0.2222222222222222,
             "#7201a8"
            ],
            [
             0.3333333333333333,
             "#9c179e"
            ],
            [
             0.4444444444444444,
             "#bd3786"
            ],
            [
             0.5555555555555556,
             "#d8576b"
            ],
            [
             0.6666666666666666,
             "#ed7953"
            ],
            [
             0.7777777777777778,
             "#fb9f3a"
            ],
            [
             0.8888888888888888,
             "#fdca26"
            ],
            [
             1,
             "#f0f921"
            ]
           ]
          },
          "colorway": [
           "#636efa",
           "#EF553B",
           "#00cc96",
           "#ab63fa",
           "#FFA15A",
           "#19d3f3",
           "#FF6692",
           "#B6E880",
           "#FF97FF",
           "#FECB52"
          ],
          "font": {
           "color": "#2a3f5f"
          },
          "geo": {
           "bgcolor": "white",
           "lakecolor": "white",
           "landcolor": "#E5ECF6",
           "showlakes": true,
           "showland": true,
           "subunitcolor": "white"
          },
          "hoverlabel": {
           "align": "left"
          },
          "hovermode": "closest",
          "mapbox": {
           "style": "light"
          },
          "paper_bgcolor": "white",
          "plot_bgcolor": "#E5ECF6",
          "polar": {
           "angularaxis": {
            "gridcolor": "white",
            "linecolor": "white",
            "ticks": ""
           },
           "bgcolor": "#E5ECF6",
           "radialaxis": {
            "gridcolor": "white",
            "linecolor": "white",
            "ticks": ""
           }
          },
          "scene": {
           "xaxis": {
            "backgroundcolor": "#E5ECF6",
            "gridcolor": "white",
            "gridwidth": 2,
            "linecolor": "white",
            "showbackground": true,
            "ticks": "",
            "zerolinecolor": "white"
           },
           "yaxis": {
            "backgroundcolor": "#E5ECF6",
            "gridcolor": "white",
            "gridwidth": 2,
            "linecolor": "white",
            "showbackground": true,
            "ticks": "",
            "zerolinecolor": "white"
           },
           "zaxis": {
            "backgroundcolor": "#E5ECF6",
            "gridcolor": "white",
            "gridwidth": 2,
            "linecolor": "white",
            "showbackground": true,
            "ticks": "",
            "zerolinecolor": "white"
           }
          },
          "shapedefaults": {
           "line": {
            "color": "#2a3f5f"
           }
          },
          "ternary": {
           "aaxis": {
            "gridcolor": "white",
            "linecolor": "white",
            "ticks": ""
           },
           "baxis": {
            "gridcolor": "white",
            "linecolor": "white",
            "ticks": ""
           },
           "bgcolor": "#E5ECF6",
           "caxis": {
            "gridcolor": "white",
            "linecolor": "white",
            "ticks": ""
           }
          },
          "title": {
           "x": 0.05
          },
          "xaxis": {
           "automargin": true,
           "gridcolor": "white",
           "linecolor": "white",
           "ticks": "",
           "title": {
            "standoff": 15
           },
           "zerolinecolor": "white",
           "zerolinewidth": 2
          },
          "yaxis": {
           "automargin": true,
           "gridcolor": "white",
           "linecolor": "white",
           "ticks": "",
           "title": {
            "standoff": 15
           },
           "zerolinecolor": "white",
           "zerolinewidth": 2
          }
         }
        },
        "width": 700
       }
      }
     },
     "metadata": {}
    }
   ],
   "source": [
    "# Create a 3D-Scatter with the PCA data and the clusters\n",
    "fig = px.scatter_3d(\n",
    "    df_pca,\n",
    "    x=\"Coin3\",\n",
    "    y=\"Coin2\",\n",
    "    z=\"Coin1\",\n",
    "    color=\"Class\",\n",
    "    symbol=\"Class\",\n",
    "    width=700,\n",
    ")\n",
    "fig.update_layout(legend=dict(x=0, y=1))\n",
    "fig.show()"
   ]
  },
  {
   "cell_type": "markdown",
   "metadata": {},
   "source": [
    "#### Table of Tradable Cryptocurrencies"
   ]
  },
  {
   "cell_type": "code",
   "execution_count": 92,
   "metadata": {},
   "outputs": [
    {
     "output_type": "execute_result",
     "data": {
      "text/plain": [
       "            CoinName  TotalCoinsMined TotalCoinSupply\n",
       "1247     BitcoinPlus     1.283270e+05         1000000\n",
       "1248      DivotyCoin     2.149121e+07       100000000\n",
       "1249     Giotto Coin              NaN       233100000\n",
       "1250  OpenSourceCoin              NaN        21000000\n",
       "1251       SteamPunk              NaN        40000000"
      ],
      "text/html": "<div>\n<style scoped>\n    .dataframe tbody tr th:only-of-type {\n        vertical-align: middle;\n    }\n\n    .dataframe tbody tr th {\n        vertical-align: top;\n    }\n\n    .dataframe thead th {\n        text-align: right;\n    }\n</style>\n<table border=\"1\" class=\"dataframe\">\n  <thead>\n    <tr style=\"text-align: right;\">\n      <th></th>\n      <th>CoinName</th>\n      <th>TotalCoinsMined</th>\n      <th>TotalCoinSupply</th>\n    </tr>\n  </thead>\n  <tbody>\n    <tr>\n      <th>1247</th>\n      <td>BitcoinPlus</td>\n      <td>1.283270e+05</td>\n      <td>1000000</td>\n    </tr>\n    <tr>\n      <th>1248</th>\n      <td>DivotyCoin</td>\n      <td>2.149121e+07</td>\n      <td>100000000</td>\n    </tr>\n    <tr>\n      <th>1249</th>\n      <td>Giotto Coin</td>\n      <td>NaN</td>\n      <td>233100000</td>\n    </tr>\n    <tr>\n      <th>1250</th>\n      <td>OpenSourceCoin</td>\n      <td>NaN</td>\n      <td>21000000</td>\n    </tr>\n    <tr>\n      <th>1251</th>\n      <td>SteamPunk</td>\n      <td>NaN</td>\n      <td>40000000</td>\n    </tr>\n  </tbody>\n</table>\n</div>"
     },
     "metadata": {},
     "execution_count": 92
    }
   ],
   "source": [
    "# Table with tradable cryptos\n",
    "df_cn = pd.DataFrame(file_path, columns = [\"CoinName\", \"TotalCoinsMined\", \"TotalCoinSupply\"]) \n",
    "df_cn.tail()"
   ]
  },
  {
   "cell_type": "code",
   "execution_count": 93,
   "metadata": {},
   "outputs": [
    {
     "output_type": "execute_result",
     "data": {
      "text/plain": [
       "         CoinName  TotalCoinsMined TotalCoinSupply\n",
       "0         42 Coin     4.199995e+01              42\n",
       "2         404Coin     1.055185e+09       532000000\n",
       "4             808     0.000000e+00               0\n",
       "5       EliteCoin     2.927942e+10    314159265359\n",
       "7         Bitcoin     1.792718e+07        21000000\n",
       "...           ...              ...             ...\n",
       "1242      Gapcoin     1.493105e+07       250000000\n",
       "1245       Beldex     9.802226e+08      1400222610\n",
       "1246      Horizen     7.296538e+06        21000000\n",
       "1247  BitcoinPlus     1.283270e+05         1000000\n",
       "1248   DivotyCoin     2.149121e+07       100000000\n",
       "\n",
       "[744 rows x 3 columns]"
      ],
      "text/html": "<div>\n<style scoped>\n    .dataframe tbody tr th:only-of-type {\n        vertical-align: middle;\n    }\n\n    .dataframe tbody tr th {\n        vertical-align: top;\n    }\n\n    .dataframe thead th {\n        text-align: right;\n    }\n</style>\n<table border=\"1\" class=\"dataframe\">\n  <thead>\n    <tr style=\"text-align: right;\">\n      <th></th>\n      <th>CoinName</th>\n      <th>TotalCoinsMined</th>\n      <th>TotalCoinSupply</th>\n    </tr>\n  </thead>\n  <tbody>\n    <tr>\n      <th>0</th>\n      <td>42 Coin</td>\n      <td>4.199995e+01</td>\n      <td>42</td>\n    </tr>\n    <tr>\n      <th>2</th>\n      <td>404Coin</td>\n      <td>1.055185e+09</td>\n      <td>532000000</td>\n    </tr>\n    <tr>\n      <th>4</th>\n      <td>808</td>\n      <td>0.000000e+00</td>\n      <td>0</td>\n    </tr>\n    <tr>\n      <th>5</th>\n      <td>EliteCoin</td>\n      <td>2.927942e+10</td>\n      <td>314159265359</td>\n    </tr>\n    <tr>\n      <th>7</th>\n      <td>Bitcoin</td>\n      <td>1.792718e+07</td>\n      <td>21000000</td>\n    </tr>\n    <tr>\n      <th>...</th>\n      <td>...</td>\n      <td>...</td>\n      <td>...</td>\n    </tr>\n    <tr>\n      <th>1242</th>\n      <td>Gapcoin</td>\n      <td>1.493105e+07</td>\n      <td>250000000</td>\n    </tr>\n    <tr>\n      <th>1245</th>\n      <td>Beldex</td>\n      <td>9.802226e+08</td>\n      <td>1400222610</td>\n    </tr>\n    <tr>\n      <th>1246</th>\n      <td>Horizen</td>\n      <td>7.296538e+06</td>\n      <td>21000000</td>\n    </tr>\n    <tr>\n      <th>1247</th>\n      <td>BitcoinPlus</td>\n      <td>1.283270e+05</td>\n      <td>1000000</td>\n    </tr>\n    <tr>\n      <th>1248</th>\n      <td>DivotyCoin</td>\n      <td>2.149121e+07</td>\n      <td>100000000</td>\n    </tr>\n  </tbody>\n</table>\n<p>744 rows × 3 columns</p>\n</div>"
     },
     "metadata": {},
     "execution_count": 93
    }
   ],
   "source": [
    "# Print the total number of tradable cryptocurrencies\n",
    "df_cn.dropna()"
   ]
  },
  {
   "cell_type": "code",
   "execution_count": 94,
   "metadata": {},
   "outputs": [
    {
     "output_type": "execute_result",
     "data": {
      "text/plain": [
       "            CoinName  Algorithm ProofType  TotalCoinsMined TotalCoinSupply\n",
       "0            42 Coin     Scrypt   PoW/PoS     4.199995e+01              42\n",
       "2            404Coin     Scrypt   PoW/PoS     1.055185e+09       532000000\n",
       "5          EliteCoin        X13   PoW/PoS     2.927942e+10    314159265359\n",
       "10              Dash        X11   PoW/PoS     9.031294e+06        22000000\n",
       "16       BitcoinDark    SHA-256   PoW/PoS     1.288862e+06        22000000\n",
       "...              ...        ...       ...              ...             ...\n",
       "1193          OKCash    SHA-256   PoW/PoS     7.467606e+07       105000000\n",
       "1196       WhiteCoin     Scrypt   PoW/PoS     2.520056e+08       300000000\n",
       "1198  FriendshipCoin  NeoScrypt   PoW/PoS     1.120385e+06        60168145\n",
       "1202  Triangles Coin        X13   PoW/PoS     1.407778e+05          120000\n",
       "1242         Gapcoin     Scrypt   PoW/PoS     1.493105e+07       250000000\n",
       "\n",
       "[176 rows x 5 columns]"
      ],
      "text/html": "<div>\n<style scoped>\n    .dataframe tbody tr th:only-of-type {\n        vertical-align: middle;\n    }\n\n    .dataframe tbody tr th {\n        vertical-align: top;\n    }\n\n    .dataframe thead th {\n        text-align: right;\n    }\n</style>\n<table border=\"1\" class=\"dataframe\">\n  <thead>\n    <tr style=\"text-align: right;\">\n      <th></th>\n      <th>CoinName</th>\n      <th>Algorithm</th>\n      <th>ProofType</th>\n      <th>TotalCoinsMined</th>\n      <th>TotalCoinSupply</th>\n    </tr>\n  </thead>\n  <tbody>\n    <tr>\n      <th>0</th>\n      <td>42 Coin</td>\n      <td>Scrypt</td>\n      <td>PoW/PoS</td>\n      <td>4.199995e+01</td>\n      <td>42</td>\n    </tr>\n    <tr>\n      <th>2</th>\n      <td>404Coin</td>\n      <td>Scrypt</td>\n      <td>PoW/PoS</td>\n      <td>1.055185e+09</td>\n      <td>532000000</td>\n    </tr>\n    <tr>\n      <th>5</th>\n      <td>EliteCoin</td>\n      <td>X13</td>\n      <td>PoW/PoS</td>\n      <td>2.927942e+10</td>\n      <td>314159265359</td>\n    </tr>\n    <tr>\n      <th>10</th>\n      <td>Dash</td>\n      <td>X11</td>\n      <td>PoW/PoS</td>\n      <td>9.031294e+06</td>\n      <td>22000000</td>\n    </tr>\n    <tr>\n      <th>16</th>\n      <td>BitcoinDark</td>\n      <td>SHA-256</td>\n      <td>PoW/PoS</td>\n      <td>1.288862e+06</td>\n      <td>22000000</td>\n    </tr>\n    <tr>\n      <th>...</th>\n      <td>...</td>\n      <td>...</td>\n      <td>...</td>\n      <td>...</td>\n      <td>...</td>\n    </tr>\n    <tr>\n      <th>1193</th>\n      <td>OKCash</td>\n      <td>SHA-256</td>\n      <td>PoW/PoS</td>\n      <td>7.467606e+07</td>\n      <td>105000000</td>\n    </tr>\n    <tr>\n      <th>1196</th>\n      <td>WhiteCoin</td>\n      <td>Scrypt</td>\n      <td>PoW/PoS</td>\n      <td>2.520056e+08</td>\n      <td>300000000</td>\n    </tr>\n    <tr>\n      <th>1198</th>\n      <td>FriendshipCoin</td>\n      <td>NeoScrypt</td>\n      <td>PoW/PoS</td>\n      <td>1.120385e+06</td>\n      <td>60168145</td>\n    </tr>\n    <tr>\n      <th>1202</th>\n      <td>Triangles Coin</td>\n      <td>X13</td>\n      <td>PoW/PoS</td>\n      <td>1.407778e+05</td>\n      <td>120000</td>\n    </tr>\n    <tr>\n      <th>1242</th>\n      <td>Gapcoin</td>\n      <td>Scrypt</td>\n      <td>PoW/PoS</td>\n      <td>1.493105e+07</td>\n      <td>250000000</td>\n    </tr>\n  </tbody>\n</table>\n<p>176 rows × 5 columns</p>\n</div>"
     },
     "metadata": {},
     "execution_count": 94
    }
   ],
   "source": [
    "df_cn = df_notnull.loc [df_notnull[\"TotalCoinsMined\"] > 0]\n",
    "df_cn.dropna()"
   ]
  },
  {
   "cell_type": "markdown",
   "metadata": {},
   "source": [
    "#### Scatter Plot with Tradable Cryptocurrencies"
   ]
  },
  {
   "cell_type": "code",
   "execution_count": 114,
   "metadata": {},
   "outputs": [],
   "source": [
    "# Scale data to create the scatter plot\n",
    "#df_cn_scaled = scaler.fit_transform(df_cn[[\"TotalCoinsMined\",\"TotalCoinSupply\"]])"
   ]
  },
  {
   "cell_type": "code",
   "execution_count": 117,
   "metadata": {},
   "outputs": [],
   "source": [
    "# Plot the scatter with x=\"TotalCoinsMined\" and y=\"TotalCoinSupply\"\n"
   ]
  },
  {
   "cell_type": "code",
   "execution_count": null,
   "metadata": {},
   "outputs": [],
   "source": []
  }
 ],
 "metadata": {
  "file_extension": ".py",
  "kernelspec": {
   "display_name": "Python 3",
   "language": "python",
   "name": "python3"
  },
  "language_info": {
   "codemirror_mode": {
    "name": "ipython",
    "version": 3
   },
   "file_extension": ".py",
   "mimetype": "text/x-python",
   "name": "python",
   "nbconvert_exporter": "python",
   "pygments_lexer": "ipython3",
   "version": "3.8.3-final"
  },
  "mimetype": "text/x-python",
  "name": "python",
  "npconvert_exporter": "python",
  "pygments_lexer": "ipython3",
  "version": 3
 },
 "nbformat": 4,
 "nbformat_minor": 4
}